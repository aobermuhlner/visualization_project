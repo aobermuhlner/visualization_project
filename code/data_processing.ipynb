{
 "cells": [
  {
   "cell_type": "code",
   "execution_count": 2,
   "outputs": [],
   "source": [
    "import pandas as pd\n",
    "from datetime import datetime\n",
    "from wordcloud import WordCloud\n",
    "import matplotlib.pyplot as plt\n",
    "import word_preprocessing as wpp\n",
    "from textblob_de import TextBlobDE as TextBlob\n",
    "import nltk"
   ],
   "metadata": {
    "collapsed": false
   }
  },
  {
   "cell_type": "code",
   "execution_count": 10,
   "outputs": [
    {
     "data": {
      "text/plain": "         id                 pubtime medium_code         medium_name   \n0  47612274  2022-09-20 11:11:09+02        BLIO            blick.ch  \\\n1  47624348  2022-09-21 14:18:32+02        NNTA    tagesanzeiger.ch   \n2  46006821  2022-04-08 12:59:57+02        LUZO  luzernerzeitung.ch   \n3  47381556  2022-08-28 00:00:00+02        NZZS      NZZ am Sonntag   \n4  47092592  2022-07-27 16:06:03+02        NZZO              nzz.ch   \n\n                                              rubric regional doctype   \n0  Wirtschaft - Schweden beschliesst starke Leitz...      NaN     WWE  \\\n1                                           Russland      NaN     WWE   \n2                                                NaN      NaN     WWE   \n3                                 Mensch und Medizin      NaN     PJO   \n4                                         wirtschaft      NaN     WWE   \n\n         doctype_description language  char_count dateline   \n0              Online medium       de      1019.0      NaN  \\\n1              Online medium       de      4545.0      NaN   \n2              Online medium       de      4085.0      NaN   \n3  Regional weekly newspaper       de       668.0      NaN   \n4              Online medium       de      8386.0      NaN   \n\n                                                head subhead   \n0       Schweden beschliesst starke Leitzinserhöhung     NaN  \\\n1  Teilmobilmachung in Russland: Wie Ramsan Kadyr...     NaN   \n2  US-Wasserversorger mit starker Rendite: +137.8...     NaN   \n3                                               News     NaN   \n4  Erdgas ist sündteuer, doch die Geschäfte blühe...     NaN   \n\n                             content_id   \n0  00000f5a-b2d4-61df-b724-c788cd754a75  \\\n1  0000582e-aa41-3899-a99c-27459ab7aaf5   \n2  0000cab5-ed36-2ba6-7676-f96162bc756d   \n3  00013bdd-1d8a-6673-bb9d-f893cdff87be   \n4  00014930-8365-3570-25af-d9af2c074f2c   \n\n                                             content  \n0  <tx><ld><p>Die schwedische Notenbank stemmt si...  \n1  <tx><ld><p>Der tschetschenische Herrscher hatt...  \n2  <tx><ld><p>Im Börsen-Blog «Money» porträtiert ...  \n3  <tx><zt>Medizincannabis und Nikotin gehen Hand...  \n4  <tx><ld><p>Der deutsche Chemiekonzern BASF ver...  ",
      "text/html": "<div>\n<style scoped>\n    .dataframe tbody tr th:only-of-type {\n        vertical-align: middle;\n    }\n\n    .dataframe tbody tr th {\n        vertical-align: top;\n    }\n\n    .dataframe thead th {\n        text-align: right;\n    }\n</style>\n<table border=\"1\" class=\"dataframe\">\n  <thead>\n    <tr style=\"text-align: right;\">\n      <th></th>\n      <th>id</th>\n      <th>pubtime</th>\n      <th>medium_code</th>\n      <th>medium_name</th>\n      <th>rubric</th>\n      <th>regional</th>\n      <th>doctype</th>\n      <th>doctype_description</th>\n      <th>language</th>\n      <th>char_count</th>\n      <th>dateline</th>\n      <th>head</th>\n      <th>subhead</th>\n      <th>content_id</th>\n      <th>content</th>\n    </tr>\n  </thead>\n  <tbody>\n    <tr>\n      <th>0</th>\n      <td>47612274</td>\n      <td>2022-09-20 11:11:09+02</td>\n      <td>BLIO</td>\n      <td>blick.ch</td>\n      <td>Wirtschaft - Schweden beschliesst starke Leitz...</td>\n      <td>NaN</td>\n      <td>WWE</td>\n      <td>Online medium</td>\n      <td>de</td>\n      <td>1019.0</td>\n      <td>NaN</td>\n      <td>Schweden beschliesst starke Leitzinserhöhung</td>\n      <td>NaN</td>\n      <td>00000f5a-b2d4-61df-b724-c788cd754a75</td>\n      <td>&lt;tx&gt;&lt;ld&gt;&lt;p&gt;Die schwedische Notenbank stemmt si...</td>\n    </tr>\n    <tr>\n      <th>1</th>\n      <td>47624348</td>\n      <td>2022-09-21 14:18:32+02</td>\n      <td>NNTA</td>\n      <td>tagesanzeiger.ch</td>\n      <td>Russland</td>\n      <td>NaN</td>\n      <td>WWE</td>\n      <td>Online medium</td>\n      <td>de</td>\n      <td>4545.0</td>\n      <td>NaN</td>\n      <td>Teilmobilmachung in Russland: Wie Ramsan Kadyr...</td>\n      <td>NaN</td>\n      <td>0000582e-aa41-3899-a99c-27459ab7aaf5</td>\n      <td>&lt;tx&gt;&lt;ld&gt;&lt;p&gt;Der tschetschenische Herrscher hatt...</td>\n    </tr>\n    <tr>\n      <th>2</th>\n      <td>46006821</td>\n      <td>2022-04-08 12:59:57+02</td>\n      <td>LUZO</td>\n      <td>luzernerzeitung.ch</td>\n      <td>NaN</td>\n      <td>NaN</td>\n      <td>WWE</td>\n      <td>Online medium</td>\n      <td>de</td>\n      <td>4085.0</td>\n      <td>NaN</td>\n      <td>US-Wasserversorger mit starker Rendite: +137.8...</td>\n      <td>NaN</td>\n      <td>0000cab5-ed36-2ba6-7676-f96162bc756d</td>\n      <td>&lt;tx&gt;&lt;ld&gt;&lt;p&gt;Im Börsen-Blog «Money» porträtiert ...</td>\n    </tr>\n    <tr>\n      <th>3</th>\n      <td>47381556</td>\n      <td>2022-08-28 00:00:00+02</td>\n      <td>NZZS</td>\n      <td>NZZ am Sonntag</td>\n      <td>Mensch und Medizin</td>\n      <td>NaN</td>\n      <td>PJO</td>\n      <td>Regional weekly newspaper</td>\n      <td>de</td>\n      <td>668.0</td>\n      <td>NaN</td>\n      <td>News</td>\n      <td>NaN</td>\n      <td>00013bdd-1d8a-6673-bb9d-f893cdff87be</td>\n      <td>&lt;tx&gt;&lt;zt&gt;Medizincannabis und Nikotin gehen Hand...</td>\n    </tr>\n    <tr>\n      <th>4</th>\n      <td>47092592</td>\n      <td>2022-07-27 16:06:03+02</td>\n      <td>NZZO</td>\n      <td>nzz.ch</td>\n      <td>wirtschaft</td>\n      <td>NaN</td>\n      <td>WWE</td>\n      <td>Online medium</td>\n      <td>de</td>\n      <td>8386.0</td>\n      <td>NaN</td>\n      <td>Erdgas ist sündteuer, doch die Geschäfte blühe...</td>\n      <td>NaN</td>\n      <td>00014930-8365-3570-25af-d9af2c074f2c</td>\n      <td>&lt;tx&gt;&lt;ld&gt;&lt;p&gt;Der deutsche Chemiekonzern BASF ver...</td>\n    </tr>\n  </tbody>\n</table>\n</div>"
     },
     "execution_count": 10,
     "metadata": {},
     "output_type": "execute_result"
    }
   ],
   "source": [
    "data = pd.read_excel(\"../data/data_vdss.xlsx\")\n",
    "data.head()"
   ],
   "metadata": {
    "collapsed": false
   }
  },
  {
   "cell_type": "code",
   "execution_count": 69,
   "outputs": [
    {
     "ename": "KeyError",
     "evalue": "'pubtime'",
     "output_type": "error",
     "traceback": [
      "\u001B[1;31m---------------------------------------------------------------------------\u001B[0m",
      "\u001B[1;31mKeyError\u001B[0m                                  Traceback (most recent call last)",
      "File \u001B[1;32m~\\anaconda3\\lib\\site-packages\\pandas\\core\\indexes\\base.py:3652\u001B[0m, in \u001B[0;36mIndex.get_loc\u001B[1;34m(self, key)\u001B[0m\n\u001B[0;32m   3651\u001B[0m \u001B[38;5;28;01mtry\u001B[39;00m:\n\u001B[1;32m-> 3652\u001B[0m     \u001B[38;5;28;01mreturn\u001B[39;00m \u001B[38;5;28;43mself\u001B[39;49m\u001B[38;5;241;43m.\u001B[39;49m\u001B[43m_engine\u001B[49m\u001B[38;5;241;43m.\u001B[39;49m\u001B[43mget_loc\u001B[49m\u001B[43m(\u001B[49m\u001B[43mcasted_key\u001B[49m\u001B[43m)\u001B[49m\n\u001B[0;32m   3653\u001B[0m \u001B[38;5;28;01mexcept\u001B[39;00m \u001B[38;5;167;01mKeyError\u001B[39;00m \u001B[38;5;28;01mas\u001B[39;00m err:\n",
      "File \u001B[1;32m~\\anaconda3\\lib\\site-packages\\pandas\\_libs\\index.pyx:147\u001B[0m, in \u001B[0;36mpandas._libs.index.IndexEngine.get_loc\u001B[1;34m()\u001B[0m\n",
      "File \u001B[1;32m~\\anaconda3\\lib\\site-packages\\pandas\\_libs\\index.pyx:176\u001B[0m, in \u001B[0;36mpandas._libs.index.IndexEngine.get_loc\u001B[1;34m()\u001B[0m\n",
      "File \u001B[1;32mpandas\\_libs\\hashtable_class_helper.pxi:7080\u001B[0m, in \u001B[0;36mpandas._libs.hashtable.PyObjectHashTable.get_item\u001B[1;34m()\u001B[0m\n",
      "File \u001B[1;32mpandas\\_libs\\hashtable_class_helper.pxi:7088\u001B[0m, in \u001B[0;36mpandas._libs.hashtable.PyObjectHashTable.get_item\u001B[1;34m()\u001B[0m\n",
      "\u001B[1;31mKeyError\u001B[0m: 'pubtime'",
      "\nThe above exception was the direct cause of the following exception:\n",
      "\u001B[1;31mKeyError\u001B[0m                                  Traceback (most recent call last)",
      "Input \u001B[1;32mIn [69]\u001B[0m, in \u001B[0;36m<cell line: 2>\u001B[1;34m()\u001B[0m\n\u001B[0;32m      1\u001B[0m \u001B[38;5;66;03m# Datum bereinigen & redundante Spalten löschen\u001B[39;00m\n\u001B[1;32m----> 2\u001B[0m data[\u001B[38;5;124m'\u001B[39m\u001B[38;5;124mdatum\u001B[39m\u001B[38;5;124m'\u001B[39m] \u001B[38;5;241m=\u001B[39m \u001B[43mdata\u001B[49m\u001B[43m[\u001B[49m\u001B[38;5;124;43m'\u001B[39;49m\u001B[38;5;124;43mpubtime\u001B[39;49m\u001B[38;5;124;43m'\u001B[39;49m\u001B[43m]\u001B[49m\u001B[38;5;241m.\u001B[39mstr\u001B[38;5;241m.\u001B[39mextract(\u001B[38;5;124mr\u001B[39m\u001B[38;5;124m'\u001B[39m\u001B[38;5;124m(\u001B[39m\u001B[38;5;124m\\\u001B[39m\u001B[38;5;124md\u001B[39m\u001B[38;5;132;01m{4}\u001B[39;00m\u001B[38;5;124m-\u001B[39m\u001B[38;5;124m\\\u001B[39m\u001B[38;5;124md\u001B[39m\u001B[38;5;132;01m{2}\u001B[39;00m\u001B[38;5;124m-\u001B[39m\u001B[38;5;124m\\\u001B[39m\u001B[38;5;124md\u001B[39m\u001B[38;5;132;01m{2}\u001B[39;00m\u001B[38;5;124m)\u001B[39m\u001B[38;5;124m'\u001B[39m)\n\u001B[0;32m      3\u001B[0m \u001B[38;5;66;03m#data['datum'] = data['datum'].apply(lambda x: datetime.strptime(x, '%Y-%m-%d').date() if pd.notnull(x) else x)\u001B[39;00m\n\u001B[0;32m      4\u001B[0m \u001B[38;5;28;01mdel\u001B[39;00m data[\u001B[38;5;124m'\u001B[39m\u001B[38;5;124mpubtime\u001B[39m\u001B[38;5;124m'\u001B[39m]\n",
      "File \u001B[1;32m~\\anaconda3\\lib\\site-packages\\pandas\\core\\frame.py:3760\u001B[0m, in \u001B[0;36mDataFrame.__getitem__\u001B[1;34m(self, key)\u001B[0m\n\u001B[0;32m   3758\u001B[0m \u001B[38;5;28;01mif\u001B[39;00m \u001B[38;5;28mself\u001B[39m\u001B[38;5;241m.\u001B[39mcolumns\u001B[38;5;241m.\u001B[39mnlevels \u001B[38;5;241m>\u001B[39m \u001B[38;5;241m1\u001B[39m:\n\u001B[0;32m   3759\u001B[0m     \u001B[38;5;28;01mreturn\u001B[39;00m \u001B[38;5;28mself\u001B[39m\u001B[38;5;241m.\u001B[39m_getitem_multilevel(key)\n\u001B[1;32m-> 3760\u001B[0m indexer \u001B[38;5;241m=\u001B[39m \u001B[38;5;28;43mself\u001B[39;49m\u001B[38;5;241;43m.\u001B[39;49m\u001B[43mcolumns\u001B[49m\u001B[38;5;241;43m.\u001B[39;49m\u001B[43mget_loc\u001B[49m\u001B[43m(\u001B[49m\u001B[43mkey\u001B[49m\u001B[43m)\u001B[49m\n\u001B[0;32m   3761\u001B[0m \u001B[38;5;28;01mif\u001B[39;00m is_integer(indexer):\n\u001B[0;32m   3762\u001B[0m     indexer \u001B[38;5;241m=\u001B[39m [indexer]\n",
      "File \u001B[1;32m~\\anaconda3\\lib\\site-packages\\pandas\\core\\indexes\\base.py:3654\u001B[0m, in \u001B[0;36mIndex.get_loc\u001B[1;34m(self, key)\u001B[0m\n\u001B[0;32m   3652\u001B[0m     \u001B[38;5;28;01mreturn\u001B[39;00m \u001B[38;5;28mself\u001B[39m\u001B[38;5;241m.\u001B[39m_engine\u001B[38;5;241m.\u001B[39mget_loc(casted_key)\n\u001B[0;32m   3653\u001B[0m \u001B[38;5;28;01mexcept\u001B[39;00m \u001B[38;5;167;01mKeyError\u001B[39;00m \u001B[38;5;28;01mas\u001B[39;00m err:\n\u001B[1;32m-> 3654\u001B[0m     \u001B[38;5;28;01mraise\u001B[39;00m \u001B[38;5;167;01mKeyError\u001B[39;00m(key) \u001B[38;5;28;01mfrom\u001B[39;00m \u001B[38;5;21;01merr\u001B[39;00m\n\u001B[0;32m   3655\u001B[0m \u001B[38;5;28;01mexcept\u001B[39;00m \u001B[38;5;167;01mTypeError\u001B[39;00m:\n\u001B[0;32m   3656\u001B[0m     \u001B[38;5;66;03m# If we have a listlike key, _check_indexing_error will raise\u001B[39;00m\n\u001B[0;32m   3657\u001B[0m     \u001B[38;5;66;03m#  InvalidIndexError. Otherwise we fall through and re-raise\u001B[39;00m\n\u001B[0;32m   3658\u001B[0m     \u001B[38;5;66;03m#  the TypeError.\u001B[39;00m\n\u001B[0;32m   3659\u001B[0m     \u001B[38;5;28mself\u001B[39m\u001B[38;5;241m.\u001B[39m_check_indexing_error(key)\n",
      "\u001B[1;31mKeyError\u001B[0m: 'pubtime'"
     ]
    }
   ],
   "source": [
    "# Datum bereinigen & redundante Spalten löschen\n",
    "data['datum'] = data['pubtime'].str.extract(r'(\\d{4}-\\d{2}-\\d{2})')\n",
    "\n",
    "del data['pubtime']\n",
    "del data['medium_code']\n",
    "del data['regional']\n",
    "del data['doctype']\n",
    "del data['language']\n",
    "del data['char_count']\n",
    "del data['dateline']\n",
    "del data['subhead']\n",
    "del data['content_id']"
   ],
   "metadata": {
    "collapsed": false
   }
  },
  {
   "cell_type": "code",
   "execution_count": 51,
   "outputs": [
    {
     "data": {
      "text/plain": "         id         medium_name   \n0  47612274            blick.ch  \\\n1  47624348    tagesanzeiger.ch   \n2  46006821  luzernerzeitung.ch   \n3  47381556      NZZ am Sonntag   \n4  47092592              nzz.ch   \n\n                                              rubric   \n0  Wirtschaft - Schweden beschliesst starke Leitz...  \\\n1                                           Russland   \n2                                                NaN   \n3                                 Mensch und Medizin   \n4                                         wirtschaft   \n\n         doctype_description   \n0              Online medium  \\\n1              Online medium   \n2              Online medium   \n3  Regional weekly newspaper   \n4              Online medium   \n\n                                                head   \n0       Schweden beschliesst starke Leitzinserhöhung  \\\n1  Teilmobilmachung in Russland: Wie Ramsan Kadyr...   \n2  US-Wasserversorger mit starker Rendite: +137.8...   \n3                                               News   \n4  Erdgas ist sündteuer, doch die Geschäfte blühe...   \n\n                                             content       datum  \n0  <tx><ld><p>Die schwedische Notenbank stemmt si...  2022-09-20  \n1  <tx><ld><p>Der tschetschenische Herrscher hatt...  2022-09-21  \n2  <tx><ld><p>Im Börsen-Blog «Money» porträtiert ...  2022-04-08  \n3  <tx><zt>Medizincannabis und Nikotin gehen Hand...  2022-08-28  \n4  <tx><ld><p>Der deutsche Chemiekonzern BASF ver...  2022-07-27  ",
      "text/html": "<div>\n<style scoped>\n    .dataframe tbody tr th:only-of-type {\n        vertical-align: middle;\n    }\n\n    .dataframe tbody tr th {\n        vertical-align: top;\n    }\n\n    .dataframe thead th {\n        text-align: right;\n    }\n</style>\n<table border=\"1\" class=\"dataframe\">\n  <thead>\n    <tr style=\"text-align: right;\">\n      <th></th>\n      <th>id</th>\n      <th>medium_name</th>\n      <th>rubric</th>\n      <th>doctype_description</th>\n      <th>head</th>\n      <th>content</th>\n      <th>datum</th>\n    </tr>\n  </thead>\n  <tbody>\n    <tr>\n      <th>0</th>\n      <td>47612274</td>\n      <td>blick.ch</td>\n      <td>Wirtschaft - Schweden beschliesst starke Leitz...</td>\n      <td>Online medium</td>\n      <td>Schweden beschliesst starke Leitzinserhöhung</td>\n      <td>&lt;tx&gt;&lt;ld&gt;&lt;p&gt;Die schwedische Notenbank stemmt si...</td>\n      <td>2022-09-20</td>\n    </tr>\n    <tr>\n      <th>1</th>\n      <td>47624348</td>\n      <td>tagesanzeiger.ch</td>\n      <td>Russland</td>\n      <td>Online medium</td>\n      <td>Teilmobilmachung in Russland: Wie Ramsan Kadyr...</td>\n      <td>&lt;tx&gt;&lt;ld&gt;&lt;p&gt;Der tschetschenische Herrscher hatt...</td>\n      <td>2022-09-21</td>\n    </tr>\n    <tr>\n      <th>2</th>\n      <td>46006821</td>\n      <td>luzernerzeitung.ch</td>\n      <td>NaN</td>\n      <td>Online medium</td>\n      <td>US-Wasserversorger mit starker Rendite: +137.8...</td>\n      <td>&lt;tx&gt;&lt;ld&gt;&lt;p&gt;Im Börsen-Blog «Money» porträtiert ...</td>\n      <td>2022-04-08</td>\n    </tr>\n    <tr>\n      <th>3</th>\n      <td>47381556</td>\n      <td>NZZ am Sonntag</td>\n      <td>Mensch und Medizin</td>\n      <td>Regional weekly newspaper</td>\n      <td>News</td>\n      <td>&lt;tx&gt;&lt;zt&gt;Medizincannabis und Nikotin gehen Hand...</td>\n      <td>2022-08-28</td>\n    </tr>\n    <tr>\n      <th>4</th>\n      <td>47092592</td>\n      <td>nzz.ch</td>\n      <td>wirtschaft</td>\n      <td>Online medium</td>\n      <td>Erdgas ist sündteuer, doch die Geschäfte blühe...</td>\n      <td>&lt;tx&gt;&lt;ld&gt;&lt;p&gt;Der deutsche Chemiekonzern BASF ver...</td>\n      <td>2022-07-27</td>\n    </tr>\n  </tbody>\n</table>\n</div>"
     },
     "execution_count": 51,
     "metadata": {},
     "output_type": "execute_result"
    }
   ],
   "source": [
    "data.head()"
   ],
   "metadata": {
    "collapsed": false
   }
  },
  {
   "cell_type": "code",
   "execution_count": 73,
   "outputs": [
    {
     "data": {
      "text/plain": "973       Nevil Marti ist der jüngste Segelflugpilot der...\n1028      Tennis: Rafael Nadal muss für Wimbledon-Halbfi...\n1460      Unterwegs im Privatzug: Ums Ankommen geht es h...\n2279        Das sind die Spitzenpaarungen am Rigi Schwingen\n2856              Wir müssen mehr über unseren Schutz reden\n                                ...                        \n205121    Openair Frauenfeld 2022: Alle Informationen im...\n205150    Bestände erholen sich: Grosse Finnwal-Gruppen ...\n205151    Bestände erholen sich: Grosse Finnwal-Gruppen ...\n205306    Boris Johnsons Abtrittsrede: Der «kleine Trump...\n205349    KURZMELDUNGEN - Sport: Norwegerinnen gewinnen ...\nName: head, Length: 617, dtype: object"
     },
     "execution_count": 73,
     "metadata": {},
     "output_type": "execute_result"
    }
   ],
   "source": [
    "data['head'][data['datum'] == '2022-07-07']"
   ],
   "metadata": {
    "collapsed": false
   }
  },
  {
   "cell_type": "code",
   "execution_count": 20,
   "outputs": [
    {
     "name": "stderr",
     "output_type": "stream",
     "text": [
      "C:\\Users\\linus\\AppData\\Local\\Temp\\ipykernel_1156\\1560632050.py:4: SettingWithCopyWarning: \n",
      "A value is trying to be set on a copy of a slice from a DataFrame\n",
      "\n",
      "See the caveats in the documentation: https://pandas.pydata.org/pandas-docs/stable/user_guide/indexing.html#returning-a-view-versus-a-copy\n",
      "  data['titel_preprocessed'][:100] = preprocesser.preprocess_headlines(data['titel'][:100])\n"
     ]
    },
    {
     "data": {
      "text/plain": "       beitragid                                              titel  mediumid   \n0       21319059                     Über das Ziel hinausgeschossen         1  \\\n1       21312273               Gewagte Schätzungen für die SKA 2.0          2   \n2       20946237                         Der Spion, den wir liebten         4   \n3       21826660                       Endlich Hilfe gegen Migräne!         4   \n4       21820335      Swiss Life übernimmt deutsche Immobilienfirma         1   \n...          ...                                                ...       ...   \n35892   22561096                                         kein Titel       946   \n35893   23150512  Schweizer Händler profitieren von Waldbränden ...       950   \n35894   23009642  Swiss Life begrüsst Pläne zu tieferem Umwandlu...       946   \n35895   23209865    «Die Reputation der Credit Suisse hat gelitten»       946   \n35896   22187065                           Das Schweigen der Männer       950   \n\n       anzahlzeichen                                             Inhalt   \n0               3178  André Müller, amü\\nWerde digitaler, sonst steh...  \\\n1               3474  Gewagte Schätzungen für die SKA 2.0 \n\n\n       ...   \n2               7259  Jean-Claude Galli\\nIn den letzten Jahren ist e...   \n3               1041  Neue Spritze bald auf dem Markt 1 Million Schw...   \n4               1362  (sda) · Die Swiss Life baut ihre Stellung am d...   \n...              ...                                                ...   \n35892           1073  Ein explosiver Vorwurf: «Was Roche tut, ist ei...   \n35893           7467  In einem unscheinbaren Gebäude am Chemin de No...   \n35894           2113  Die Vorschläge, welche die Sozialpartner und d...   \n35895           4153  Die Bespitzelungsaffäre bei der Credit Suisse ...   \n35896           7752   Dass sich das kleine Gartenhag-Zeichen mit de...   \n\n            datum  Sentiment                             titel_preprocessed  \n0      2017-10-25   0.150000                          Ziel hinausgeschossen  \n1      2017-10-21   0.175714                        Gewagt Schätzung SKA 20  \n2      2017-05-24   0.210423                                   Spion lieben  \n3      2018-06-29  -0.200000                                   Hilfe Migran  \n4      2018-06-26   0.231818  Swiss Life übernehmen deutsch Immobilienfirma  \n...           ...        ...                                            ...  \n35892  2019-02-09        NaN                                            NaN  \n35893  2019-09-08        NaN                                            NaN  \n35894  2019-07-15        NaN                                            NaN  \n35895  2019-10-01        NaN                                            NaN  \n35896  2018-10-06        NaN                                            NaN  \n\n[35897 rows x 8 columns]",
      "text/html": "<div>\n<style scoped>\n    .dataframe tbody tr th:only-of-type {\n        vertical-align: middle;\n    }\n\n    .dataframe tbody tr th {\n        vertical-align: top;\n    }\n\n    .dataframe thead th {\n        text-align: right;\n    }\n</style>\n<table border=\"1\" class=\"dataframe\">\n  <thead>\n    <tr style=\"text-align: right;\">\n      <th></th>\n      <th>beitragid</th>\n      <th>titel</th>\n      <th>mediumid</th>\n      <th>anzahlzeichen</th>\n      <th>Inhalt</th>\n      <th>datum</th>\n      <th>Sentiment</th>\n      <th>titel_preprocessed</th>\n    </tr>\n  </thead>\n  <tbody>\n    <tr>\n      <th>0</th>\n      <td>21319059</td>\n      <td>Über das Ziel hinausgeschossen</td>\n      <td>1</td>\n      <td>3178</td>\n      <td>André Müller, amü\\nWerde digitaler, sonst steh...</td>\n      <td>2017-10-25</td>\n      <td>0.150000</td>\n      <td>Ziel hinausgeschossen</td>\n    </tr>\n    <tr>\n      <th>1</th>\n      <td>21312273</td>\n      <td>Gewagte Schätzungen für die SKA 2.0</td>\n      <td>2</td>\n      <td>3474</td>\n      <td>Gewagte Schätzungen für die SKA 2.0 \u000B\u000B\u000B       ...</td>\n      <td>2017-10-21</td>\n      <td>0.175714</td>\n      <td>Gewagt Schätzung SKA 20</td>\n    </tr>\n    <tr>\n      <th>2</th>\n      <td>20946237</td>\n      <td>Der Spion, den wir liebten</td>\n      <td>4</td>\n      <td>7259</td>\n      <td>Jean-Claude Galli\\nIn den letzten Jahren ist e...</td>\n      <td>2017-05-24</td>\n      <td>0.210423</td>\n      <td>Spion lieben</td>\n    </tr>\n    <tr>\n      <th>3</th>\n      <td>21826660</td>\n      <td>Endlich Hilfe gegen Migräne!</td>\n      <td>4</td>\n      <td>1041</td>\n      <td>Neue Spritze bald auf dem Markt 1 Million Schw...</td>\n      <td>2018-06-29</td>\n      <td>-0.200000</td>\n      <td>Hilfe Migran</td>\n    </tr>\n    <tr>\n      <th>4</th>\n      <td>21820335</td>\n      <td>Swiss Life übernimmt deutsche Immobilienfirma</td>\n      <td>1</td>\n      <td>1362</td>\n      <td>(sda) · Die Swiss Life baut ihre Stellung am d...</td>\n      <td>2018-06-26</td>\n      <td>0.231818</td>\n      <td>Swiss Life übernehmen deutsch Immobilienfirma</td>\n    </tr>\n    <tr>\n      <th>...</th>\n      <td>...</td>\n      <td>...</td>\n      <td>...</td>\n      <td>...</td>\n      <td>...</td>\n      <td>...</td>\n      <td>...</td>\n      <td>...</td>\n    </tr>\n    <tr>\n      <th>35892</th>\n      <td>22561096</td>\n      <td>kein Titel</td>\n      <td>946</td>\n      <td>1073</td>\n      <td>Ein explosiver Vorwurf: «Was Roche tut, ist ei...</td>\n      <td>2019-02-09</td>\n      <td>NaN</td>\n      <td>NaN</td>\n    </tr>\n    <tr>\n      <th>35893</th>\n      <td>23150512</td>\n      <td>Schweizer Händler profitieren von Waldbränden ...</td>\n      <td>950</td>\n      <td>7467</td>\n      <td>In einem unscheinbaren Gebäude am Chemin de No...</td>\n      <td>2019-09-08</td>\n      <td>NaN</td>\n      <td>NaN</td>\n    </tr>\n    <tr>\n      <th>35894</th>\n      <td>23009642</td>\n      <td>Swiss Life begrüsst Pläne zu tieferem Umwandlu...</td>\n      <td>946</td>\n      <td>2113</td>\n      <td>Die Vorschläge, welche die Sozialpartner und d...</td>\n      <td>2019-07-15</td>\n      <td>NaN</td>\n      <td>NaN</td>\n    </tr>\n    <tr>\n      <th>35895</th>\n      <td>23209865</td>\n      <td>«Die Reputation der Credit Suisse hat gelitten»</td>\n      <td>946</td>\n      <td>4153</td>\n      <td>Die Bespitzelungsaffäre bei der Credit Suisse ...</td>\n      <td>2019-10-01</td>\n      <td>NaN</td>\n      <td>NaN</td>\n    </tr>\n    <tr>\n      <th>35896</th>\n      <td>22187065</td>\n      <td>Das Schweigen der Männer</td>\n      <td>950</td>\n      <td>7752</td>\n      <td>Dass sich das kleine Gartenhag-Zeichen mit de...</td>\n      <td>2018-10-06</td>\n      <td>NaN</td>\n      <td>NaN</td>\n    </tr>\n  </tbody>\n</table>\n<p>35897 rows × 8 columns</p>\n</div>"
     },
     "execution_count": 20,
     "metadata": {},
     "output_type": "execute_result"
    }
   ],
   "source": [
    "# Headlines aufbereiten mit Klasse word_preprocessing\n",
    "# testweise nur 100 erste Zeilen\n",
    "\n",
    "preprocesser = wpp.headline_preprocessing()\n",
    "data['titel_preprocessed'][:100] = preprocesser.preprocess_headlines(data['titel'][:100])\n",
    "data"
   ],
   "metadata": {
    "collapsed": false
   }
  },
  {
   "cell_type": "code",
   "execution_count": 14,
   "outputs": [],
   "source": [
    "def get_topic_sentiments(headlines):\n",
    "    headline_blob = TextBlob(headlines)\n",
    "    return headline_blob.sentiment.polarity\n",
    "\n",
    "# Sentiment-Analyse\n",
    "# testweise nur 100 erste Zeilen\n",
    "\n",
    "data['Sentiment'] = data['Inhalt'][0:100].apply(lambda x: get_topic_sentiments(x))"
   ],
   "metadata": {
    "collapsed": false
   }
  },
  {
   "cell_type": "code",
   "execution_count": 15,
   "outputs": [
    {
     "data": {
      "text/plain": "       beitragid                                              titel  mediumid   \n0       21319059                     Über das Ziel hinausgeschossen         1  \\\n1       21312273               Gewagte Schätzungen für die SKA 2.0          2   \n2       20946237                         Der Spion, den wir liebten         4   \n3       21826660                       Endlich Hilfe gegen Migräne!         4   \n4       21820335      Swiss Life übernimmt deutsche Immobilienfirma         1   \n...          ...                                                ...       ...   \n35892   22561096                                         kein Titel       946   \n35893   23150512  Schweizer Händler profitieren von Waldbränden ...       950   \n35894   23009642  Swiss Life begrüsst Pläne zu tieferem Umwandlu...       946   \n35895   23209865    «Die Reputation der Credit Suisse hat gelitten»       946   \n35896   22187065                           Das Schweigen der Männer       950   \n\n       anzahlzeichen                                             Inhalt   \n0               3178  André Müller, amü\\nWerde digitaler, sonst steh...  \\\n1               3474  Gewagte Schätzungen für die SKA 2.0 \n\n\n       ...   \n2               7259  Jean-Claude Galli\\nIn den letzten Jahren ist e...   \n3               1041  Neue Spritze bald auf dem Markt 1 Million Schw...   \n4               1362  (sda) · Die Swiss Life baut ihre Stellung am d...   \n...              ...                                                ...   \n35892           1073  Ein explosiver Vorwurf: «Was Roche tut, ist ei...   \n35893           7467  In einem unscheinbaren Gebäude am Chemin de No...   \n35894           2113  Die Vorschläge, welche die Sozialpartner und d...   \n35895           4153  Die Bespitzelungsaffäre bei der Credit Suisse ...   \n35896           7752   Dass sich das kleine Gartenhag-Zeichen mit de...   \n\n            datum  Sentiment  \n0      2017-10-25   0.150000  \n1      2017-10-21   0.175714  \n2      2017-05-24   0.210423  \n3      2018-06-29  -0.200000  \n4      2018-06-26   0.231818  \n...           ...        ...  \n35892  2019-02-09        NaN  \n35893  2019-09-08        NaN  \n35894  2019-07-15        NaN  \n35895  2019-10-01        NaN  \n35896  2018-10-06        NaN  \n\n[35897 rows x 7 columns]",
      "text/html": "<div>\n<style scoped>\n    .dataframe tbody tr th:only-of-type {\n        vertical-align: middle;\n    }\n\n    .dataframe tbody tr th {\n        vertical-align: top;\n    }\n\n    .dataframe thead th {\n        text-align: right;\n    }\n</style>\n<table border=\"1\" class=\"dataframe\">\n  <thead>\n    <tr style=\"text-align: right;\">\n      <th></th>\n      <th>beitragid</th>\n      <th>titel</th>\n      <th>mediumid</th>\n      <th>anzahlzeichen</th>\n      <th>Inhalt</th>\n      <th>datum</th>\n      <th>Sentiment</th>\n    </tr>\n  </thead>\n  <tbody>\n    <tr>\n      <th>0</th>\n      <td>21319059</td>\n      <td>Über das Ziel hinausgeschossen</td>\n      <td>1</td>\n      <td>3178</td>\n      <td>André Müller, amü\\nWerde digitaler, sonst steh...</td>\n      <td>2017-10-25</td>\n      <td>0.150000</td>\n    </tr>\n    <tr>\n      <th>1</th>\n      <td>21312273</td>\n      <td>Gewagte Schätzungen für die SKA 2.0</td>\n      <td>2</td>\n      <td>3474</td>\n      <td>Gewagte Schätzungen für die SKA 2.0 \u000B\u000B\u000B       ...</td>\n      <td>2017-10-21</td>\n      <td>0.175714</td>\n    </tr>\n    <tr>\n      <th>2</th>\n      <td>20946237</td>\n      <td>Der Spion, den wir liebten</td>\n      <td>4</td>\n      <td>7259</td>\n      <td>Jean-Claude Galli\\nIn den letzten Jahren ist e...</td>\n      <td>2017-05-24</td>\n      <td>0.210423</td>\n    </tr>\n    <tr>\n      <th>3</th>\n      <td>21826660</td>\n      <td>Endlich Hilfe gegen Migräne!</td>\n      <td>4</td>\n      <td>1041</td>\n      <td>Neue Spritze bald auf dem Markt 1 Million Schw...</td>\n      <td>2018-06-29</td>\n      <td>-0.200000</td>\n    </tr>\n    <tr>\n      <th>4</th>\n      <td>21820335</td>\n      <td>Swiss Life übernimmt deutsche Immobilienfirma</td>\n      <td>1</td>\n      <td>1362</td>\n      <td>(sda) · Die Swiss Life baut ihre Stellung am d...</td>\n      <td>2018-06-26</td>\n      <td>0.231818</td>\n    </tr>\n    <tr>\n      <th>...</th>\n      <td>...</td>\n      <td>...</td>\n      <td>...</td>\n      <td>...</td>\n      <td>...</td>\n      <td>...</td>\n      <td>...</td>\n    </tr>\n    <tr>\n      <th>35892</th>\n      <td>22561096</td>\n      <td>kein Titel</td>\n      <td>946</td>\n      <td>1073</td>\n      <td>Ein explosiver Vorwurf: «Was Roche tut, ist ei...</td>\n      <td>2019-02-09</td>\n      <td>NaN</td>\n    </tr>\n    <tr>\n      <th>35893</th>\n      <td>23150512</td>\n      <td>Schweizer Händler profitieren von Waldbränden ...</td>\n      <td>950</td>\n      <td>7467</td>\n      <td>In einem unscheinbaren Gebäude am Chemin de No...</td>\n      <td>2019-09-08</td>\n      <td>NaN</td>\n    </tr>\n    <tr>\n      <th>35894</th>\n      <td>23009642</td>\n      <td>Swiss Life begrüsst Pläne zu tieferem Umwandlu...</td>\n      <td>946</td>\n      <td>2113</td>\n      <td>Die Vorschläge, welche die Sozialpartner und d...</td>\n      <td>2019-07-15</td>\n      <td>NaN</td>\n    </tr>\n    <tr>\n      <th>35895</th>\n      <td>23209865</td>\n      <td>«Die Reputation der Credit Suisse hat gelitten»</td>\n      <td>946</td>\n      <td>4153</td>\n      <td>Die Bespitzelungsaffäre bei der Credit Suisse ...</td>\n      <td>2019-10-01</td>\n      <td>NaN</td>\n    </tr>\n    <tr>\n      <th>35896</th>\n      <td>22187065</td>\n      <td>Das Schweigen der Männer</td>\n      <td>950</td>\n      <td>7752</td>\n      <td>Dass sich das kleine Gartenhag-Zeichen mit de...</td>\n      <td>2018-10-06</td>\n      <td>NaN</td>\n    </tr>\n  </tbody>\n</table>\n<p>35897 rows × 7 columns</p>\n</div>"
     },
     "execution_count": 15,
     "metadata": {},
     "output_type": "execute_result"
    }
   ],
   "source": [
    "data"
   ],
   "metadata": {
    "collapsed": false
   }
  }
 ],
 "metadata": {
  "kernelspec": {
   "display_name": "Python 3 (ipykernel)",
   "language": "python",
   "name": "python3"
  },
  "language_info": {
   "codemirror_mode": {
    "name": "ipython",
    "version": 3
   },
   "file_extension": ".py",
   "mimetype": "text/x-python",
   "name": "python",
   "nbconvert_exporter": "python",
   "pygments_lexer": "ipython3",
   "version": "3.9.15"
  }
 },
 "nbformat": 4,
 "nbformat_minor": 5
}
