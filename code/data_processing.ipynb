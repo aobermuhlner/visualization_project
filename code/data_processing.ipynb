{
 "cells": [
  {
   "cell_type": "code",
   "execution_count": 1,
   "outputs": [],
   "source": [
    "from importlib import reload\n",
    "import pandas as pd\n",
    "import time\n",
    "import TextPreprocessing as wpp\n",
    "import CountryExtractor as ce\n",
    "import SentimentAnalyser as sa\n",
    "import TopicCategorizer as tc"
   ],
   "metadata": {
    "collapsed": false
   }
  },
  {
   "cell_type": "markdown",
   "source": [
    "Reading raw data"
   ],
   "metadata": {
    "collapsed": false
   }
  },
  {
   "cell_type": "code",
   "execution_count": 19,
   "outputs": [],
   "source": [
    "data = pd.read_csv('../data/new_data_vdss.tsv.xz', sep='\\t', compression='xz')"
   ],
   "metadata": {
    "collapsed": false
   }
  },
  {
   "cell_type": "code",
   "execution_count": 20,
   "outputs": [],
   "source": [
    "# Datum bereinigen & redundante Spalten löschen\n",
    "\n",
    "data['datum'] = data['pubtime'].str.extract(r'(\\d{4}-\\d{2}-\\d{2})')\n",
    "data['datum'] = pd.to_datetime(data['datum'])\n",
    "del data['pubtime']\n",
    "del data['medium_code']\n",
    "del data['regional']\n",
    "del data['doctype']\n",
    "del data['language']\n",
    "del data['char_count']\n",
    "del data['dateline']\n",
    "del data['subhead']\n",
    "del data['content_id']"
   ],
   "metadata": {
    "collapsed": false
   }
  },
  {
   "cell_type": "markdown",
   "source": [
    "Text preprocessing for content"
   ],
   "metadata": {
    "collapsed": false
   }
  },
  {
   "cell_type": "code",
   "execution_count": null,
   "outputs": [],
   "source": [
    "preprocessor = wpp.headlinePreprocessing()\n",
    "\n",
    "start_time = time.time()\n",
    "data['content_processed'] = data['content'].apply(lambda x: preprocessor.preprocess_text(x) if isinstance(x, str) else [])\n",
    "end_time = time.time()\n",
    "\n",
    "elapsed_time = end_time - start_time\n",
    "\n",
    "del data['content']\n",
    "\n",
    "print(\"Elapsed Time: {:.2f} seconds\".format(elapsed_time))"
   ],
   "metadata": {
    "collapsed": false,
    "pycharm": {
     "is_executing": true
    }
   }
  },
  {
   "cell_type": "markdown",
   "source": [
    "Country analysis with running time estimation"
   ],
   "metadata": {
    "collapsed": false
   }
  },
  {
   "cell_type": "code",
   "execution_count": 23,
   "outputs": [
    {
     "name": "stdout",
     "output_type": "stream",
     "text": [
      "68.1 µs ± 9.06 µs per loop (mean ± std. dev. of 7 runs, 10,000 loops each)\n"
     ]
    }
   ],
   "source": [
    "extractor = ce.CountryExtractor()\n",
    "%timeit extractor.get_country(data['content'][0])"
   ],
   "metadata": {
    "collapsed": false
   }
  },
  {
   "cell_type": "markdown",
   "source": [
    "68.1 µs ± 9.06 µs per loop (mean ± std. dev. of 7 runs, 10,000 loops each)"
   ],
   "metadata": {
    "collapsed": false
   }
  },
  {
   "cell_type": "code",
   "execution_count": null,
   "outputs": [],
   "source": [
    "# extraction of countries\n",
    "extractor = ce.CountryExtractor()\n",
    "data['countries'] = data['content_processed'].apply(lambda x: extractor.get_country(x) if isinstance(x[0], str) else [])"
   ],
   "metadata": {
    "collapsed": false,
    "pycharm": {
     "is_executing": true
    }
   }
  },
  {
   "cell_type": "markdown",
   "source": [
    "16.2 ms ± 1.17 ms per loop (mean ± std. dev. of 7 runs, 100 loops each)"
   ],
   "metadata": {
    "collapsed": false
   }
  },
  {
   "cell_type": "markdown",
   "source": [
    "Sentiment analysis with running time estimation"
   ],
   "metadata": {
    "collapsed": false
   }
  },
  {
   "cell_type": "code",
   "execution_count": 31,
   "outputs": [
    {
     "name": "stdout",
     "output_type": "stream",
     "text": [
      "65.9 ms ± 1.01 ms per loop (mean ± std. dev. of 7 runs, 10 loops each)\n"
     ]
    }
   ],
   "source": [
    "reload(sa)\n",
    "sentiment_analyser = sa.sentimentAnalyser()\n",
    "%timeit sentiment_analyser.get_topic_sentiments_polarity(data['content_processed'][0])"
   ],
   "metadata": {
    "collapsed": false
   }
  },
  {
   "cell_type": "markdown",
   "source": [
    "12.8 ms ± 1.17 ms per loop (mean ± std. dev. of 7 runs, 100 loops each)"
   ],
   "metadata": {
    "collapsed": false
   }
  },
  {
   "cell_type": "code",
   "execution_count": 33,
   "outputs": [
    {
     "name": "stdout",
     "output_type": "stream",
     "text": [
      "Elapsed Time: 7932.10 seconds\n"
     ]
    }
   ],
   "source": [
    "# Sentiment analysis\n",
    "\n",
    "sentiment_analyser = sa.sentimentAnalyser()\n",
    "\n",
    "start_time = time.time()\n",
    "data['Sentiment'] = data['content_processed'].apply(lambda x: sentiment_analyser.get_topic_sentiments_polarity(x))\n",
    "end_time = time.time()\n",
    "\n",
    "elapsed_time = end_time - start_time\n",
    "\n",
    "print(\"Elapsed Time: {:.2f} seconds\".format(elapsed_time))\n",
    "\n",
    "data.to_csv('../data/processed_data.tsv.xz', sep='\\t', index=False, compression='xz')"
   ],
   "metadata": {
    "collapsed": false
   }
  },
  {
   "cell_type": "markdown",
   "source": [
    "Elapsed Time: 7932.10 seconds"
   ],
   "metadata": {
    "collapsed": false
   }
  },
  {
   "cell_type": "markdown",
   "source": [
    "Subjectivity analysis with running time estimation"
   ],
   "metadata": {
    "collapsed": false
   }
  },
  {
   "cell_type": "code",
   "execution_count": 73,
   "outputs": [
    {
     "name": "stdout",
     "output_type": "stream",
     "text": [
      "16.4 ms ± 1.66 ms per loop (mean ± std. dev. of 7 runs, 100 loops each)\n"
     ]
    }
   ],
   "source": [
    "reload(sa)\n",
    "sentiment_analyser = sa.sentimentAnalyser()\n",
    "%timeit sentiment_analyser.get_topic_subjectivity(processed_data['content_processed'][0])"
   ],
   "metadata": {
    "collapsed": false
   }
  },
  {
   "cell_type": "markdown",
   "source": [
    "16.4 ms ± 1.66 ms per loop (mean ± std. dev. of 7 runs, 100 loops each)"
   ],
   "metadata": {
    "collapsed": false
   }
  },
  {
   "cell_type": "code",
   "execution_count": 75,
   "outputs": [
    {
     "name": "stdout",
     "output_type": "stream",
     "text": [
      "Elapsed Time: 9175.09 seconds\n"
     ]
    }
   ],
   "source": [
    "sentiment_analyser = sa.sentimentAnalyser()\n",
    "\n",
    "start_time = time.time()\n",
    "\n",
    "data['objectivity'] = data['content_processed'].apply(lambda x: sentiment_analyser.get_topic_subjectivity(x))\n",
    "\n",
    "end_time = time.time()\n",
    "\n",
    "elapsed_time = end_time - start_time\n",
    "\n",
    "print(\"Elapsed Time: {:.2f} seconds\".format(elapsed_time))\n",
    "\n",
    "data.to_csv('../data/processed_data2.tsv.xz', sep='\\t', index=False, compression='xz')"
   ],
   "metadata": {
    "collapsed": false
   }
  },
  {
   "cell_type": "markdown",
   "source": [
    "Elapsed Time: 9175.09 seconds"
   ],
   "metadata": {
    "collapsed": false
   }
  },
  {
   "cell_type": "markdown",
   "source": [
    "Text preprocessing 'rubric' and running time estimation"
   ],
   "metadata": {
    "collapsed": false
   }
  },
  {
   "cell_type": "code",
   "execution_count": 144,
   "outputs": [
    {
     "name": "stdout",
     "output_type": "stream",
     "text": [
      "330 µs ± 16.4 µs per loop (mean ± std. dev. of 7 runs, 1,000 loops each)\n"
     ]
    }
   ],
   "source": [
    "text_processing = wpp.TextPreprocessing()\n",
    "%timeit data['rubric'][:1].apply(lambda x: text_processing.preprocess_text(x.lower()))"
   ],
   "metadata": {
    "collapsed": false
   }
  },
  {
   "cell_type": "markdown",
   "source": [
    "330 µs ± 16.4 µs per loop (mean ± std. dev. of 7 runs, 1,000 loops each)"
   ],
   "metadata": {
    "collapsed": false
   }
  },
  {
   "cell_type": "code",
   "execution_count": 150,
   "outputs": [],
   "source": [
    "data['topic'] = data['rubric'].apply(lambda x: text_processing.preprocess_text(x.lower()) if isinstance(x, str) else [])"
   ],
   "metadata": {
    "collapsed": false
   }
  },
  {
   "cell_type": "markdown",
   "source": [
    "Import of processed data"
   ],
   "metadata": {
    "collapsed": false
   }
  },
  {
   "cell_type": "code",
   "execution_count": 46,
   "outputs": [
    {
     "name": "stdout",
     "output_type": "stream",
     "text": [
      "14 ms ± 899 µs per loop (mean ± std. dev. of 7 runs, 100 loops each)\n"
     ]
    }
   ],
   "source": [
    "import TopicCategorizer as tc\n",
    "reload(tc)\n",
    "%timeit data['content_processed'][:1].apply(lambda x: categorizer.categorize(x))"
   ],
   "metadata": {
    "collapsed": false
   }
  },
  {
   "cell_type": "markdown",
   "source": [
    "14 ms ± 899 µs per loop (mean ± std. dev. of 7 runs, 100 loops each)"
   ],
   "metadata": {
    "collapsed": false
   }
  },
  {
   "cell_type": "code",
   "execution_count": 47,
   "outputs": [
    {
     "name": "stdout",
     "output_type": "stream",
     "text": [
      "Elapsed Time: 7089.20 seconds\n"
     ]
    }
   ],
   "source": [
    "categorizer = tc.TopicCategorizer()\n",
    "\n",
    "start_time = time.time()\n",
    "data['kategorie'] = data['content_processed'].apply(lambda x: categorizer.categorize(x))\n",
    "end_time = time.time()\n",
    "\n",
    "elapsed_time = end_time - start_time\n",
    "\n",
    "print(\"Elapsed Time: {:.2f} seconds\".format(elapsed_time))\n",
    "\n",
    "data.to_csv('../data/processed_data3.tsv.xz', sep='\\t', index=False, compression='xz')"
   ],
   "metadata": {
    "collapsed": false
   }
  },
  {
   "cell_type": "markdown",
   "source": [
    "Elapsed Time: 7089.20 seconds"
   ],
   "metadata": {
    "collapsed": false
   }
  },
  {
   "cell_type": "code",
   "execution_count": 38,
   "outputs": [],
   "source": [
    "processed_data = pd.read_csv('../data/processed_data3.tsv.xz', sep='\\t', compression='xz')"
   ],
   "metadata": {
    "collapsed": false
   }
  },
  {
   "cell_type": "code",
   "execution_count": 40,
   "outputs": [],
   "source": [
    "# eval converts string to list\n",
    "processed_data['content_processed'] = processed_data['content_processed'].apply(eval)"
   ],
   "metadata": {
    "collapsed": false
   }
  },
  {
   "cell_type": "code",
   "execution_count": 59,
   "outputs": [
    {
     "data": {
      "text/plain": "              id     medium_name             rubric       doctype_description   \n10      45734790          srf.ch     News - Schweiz             Online medium  \\\n15      46368333  Tages-Anzeiger             Zürich  National daily newspaper   \n16      45773390      20 minuten  St. Gallen/Region  Regional daily newspaper   \n38      48093527        blick.ch             People             Online medium   \n55      47001729        blick.ch            Schweiz             Online medium   \n...          ...             ...                ...                       ...   \n153174  45778228        blick.ch              Sport             Online medium   \n153183  46334857      20 minuten        Bern/Region  Regional daily newspaper   \n153186  45316227  Berner Zeitung             Region  Regional daily newspaper   \n153191  45756810        blick.ch            Schweiz             Online medium   \n153196  45361730      20 minuten  St. Gallen/Region  Regional daily newspaper   \n\n                                                     head       datum   \n10      Kita-Plätze für Kinder mit Behinderung sind Ma...  2022-03-14  \\\n15          Der Schlieremer Wolf ist nun ein Museumsstück  2022-05-14   \n16      Fall Karm Ahmed: Jetzt gibts Hinweis auf Beton...  2022-03-18   \n38      Am 16. Kispi-Ball tanzten Prominente für den g...  2022-11-07   \n55             Riesige Warteschlangen am Flughafen Zürich  2022-07-17   \n...                                                   ...         ...   \n153174  Monsterwelle verschluckt Surfer an der portugi...  2022-03-18   \n153183        Töffraser fast doppelt so schnell unterwegs  2022-05-11   \n153186  Keine Wohnung für Autobesitzerinnen und -besitzer  2022-02-02   \n153191  Stadt Zürich will Sprayereien am Kamin Josefsw...  2022-03-16   \n153196                         Bürocontainer in Vollbrand  2022-02-07   \n\n                                        content_processed    countries   \n10      [Kita, Plätze, Kinder, Behinderung, rar, Das, ...  ['Schweiz']  \\\n15      [Rückkehr, Raubtiere, Um, Haar, wäre, erste, W...  ['Schweiz']   \n16      [OBERNEUNFORN, Im, Dezember, 2007, wurde, Ägyp...           []   \n38      [Prominente, feierten, zugunsten, Zürcher, Kin...           []   \n55      [Schon, frühen, Morgenstunden, bildeten, Flugh...           []   \n...                                                   ...          ...   \n153174  [Die, Wellen, portugiesischen, Nazaré, berücht...           []   \n153183  [TRIENT, Der, Kantonspolizei, Wallis, Radarkon...           []   \n153186  [Umstrittener, Parkplatz, Trend, In, Bern, imm...  ['Schweiz']   \n153191  [Seit, vergangenen, Herbst, zierte, Schriftzug...           []   \n153196  [ARBON, Aus, unbekannten, Gründen, brannte, Na...           []   \n\n        Sentiment  objectivity kategorie  \n10       0.278125     0.184375   Lokales  \n15       0.121212     0.090909   Lokales  \n16       0.480000     0.000000   Lokales  \n38       0.630769     0.076923   Lokales  \n55       0.333333     0.600000   Lokales  \n...           ...          ...       ...  \n153174   0.000000     0.000000   Lokales  \n153183   0.000000     0.000000   Lokales  \n153186  -0.087500     0.125000   Lokales  \n153191   0.423077     0.000000   Lokales  \n153196  -0.850000     0.000000   Lokales  \n\n[19419 rows x 11 columns]",
      "text/html": "<div>\n<style scoped>\n    .dataframe tbody tr th:only-of-type {\n        vertical-align: middle;\n    }\n\n    .dataframe tbody tr th {\n        vertical-align: top;\n    }\n\n    .dataframe thead th {\n        text-align: right;\n    }\n</style>\n<table border=\"1\" class=\"dataframe\">\n  <thead>\n    <tr style=\"text-align: right;\">\n      <th></th>\n      <th>id</th>\n      <th>medium_name</th>\n      <th>rubric</th>\n      <th>doctype_description</th>\n      <th>head</th>\n      <th>datum</th>\n      <th>content_processed</th>\n      <th>countries</th>\n      <th>Sentiment</th>\n      <th>objectivity</th>\n      <th>kategorie</th>\n    </tr>\n  </thead>\n  <tbody>\n    <tr>\n      <th>10</th>\n      <td>45734790</td>\n      <td>srf.ch</td>\n      <td>News - Schweiz</td>\n      <td>Online medium</td>\n      <td>Kita-Plätze für Kinder mit Behinderung sind Ma...</td>\n      <td>2022-03-14</td>\n      <td>[Kita, Plätze, Kinder, Behinderung, rar, Das, ...</td>\n      <td>['Schweiz']</td>\n      <td>0.278125</td>\n      <td>0.184375</td>\n      <td>Lokales</td>\n    </tr>\n    <tr>\n      <th>15</th>\n      <td>46368333</td>\n      <td>Tages-Anzeiger</td>\n      <td>Zürich</td>\n      <td>National daily newspaper</td>\n      <td>Der Schlieremer Wolf ist nun ein Museumsstück</td>\n      <td>2022-05-14</td>\n      <td>[Rückkehr, Raubtiere, Um, Haar, wäre, erste, W...</td>\n      <td>['Schweiz']</td>\n      <td>0.121212</td>\n      <td>0.090909</td>\n      <td>Lokales</td>\n    </tr>\n    <tr>\n      <th>16</th>\n      <td>45773390</td>\n      <td>20 minuten</td>\n      <td>St. Gallen/Region</td>\n      <td>Regional daily newspaper</td>\n      <td>Fall Karm Ahmed: Jetzt gibts Hinweis auf Beton...</td>\n      <td>2022-03-18</td>\n      <td>[OBERNEUNFORN, Im, Dezember, 2007, wurde, Ägyp...</td>\n      <td>[]</td>\n      <td>0.480000</td>\n      <td>0.000000</td>\n      <td>Lokales</td>\n    </tr>\n    <tr>\n      <th>38</th>\n      <td>48093527</td>\n      <td>blick.ch</td>\n      <td>People</td>\n      <td>Online medium</td>\n      <td>Am 16. Kispi-Ball tanzten Prominente für den g...</td>\n      <td>2022-11-07</td>\n      <td>[Prominente, feierten, zugunsten, Zürcher, Kin...</td>\n      <td>[]</td>\n      <td>0.630769</td>\n      <td>0.076923</td>\n      <td>Lokales</td>\n    </tr>\n    <tr>\n      <th>55</th>\n      <td>47001729</td>\n      <td>blick.ch</td>\n      <td>Schweiz</td>\n      <td>Online medium</td>\n      <td>Riesige Warteschlangen am Flughafen Zürich</td>\n      <td>2022-07-17</td>\n      <td>[Schon, frühen, Morgenstunden, bildeten, Flugh...</td>\n      <td>[]</td>\n      <td>0.333333</td>\n      <td>0.600000</td>\n      <td>Lokales</td>\n    </tr>\n    <tr>\n      <th>...</th>\n      <td>...</td>\n      <td>...</td>\n      <td>...</td>\n      <td>...</td>\n      <td>...</td>\n      <td>...</td>\n      <td>...</td>\n      <td>...</td>\n      <td>...</td>\n      <td>...</td>\n      <td>...</td>\n    </tr>\n    <tr>\n      <th>153174</th>\n      <td>45778228</td>\n      <td>blick.ch</td>\n      <td>Sport</td>\n      <td>Online medium</td>\n      <td>Monsterwelle verschluckt Surfer an der portugi...</td>\n      <td>2022-03-18</td>\n      <td>[Die, Wellen, portugiesischen, Nazaré, berücht...</td>\n      <td>[]</td>\n      <td>0.000000</td>\n      <td>0.000000</td>\n      <td>Lokales</td>\n    </tr>\n    <tr>\n      <th>153183</th>\n      <td>46334857</td>\n      <td>20 minuten</td>\n      <td>Bern/Region</td>\n      <td>Regional daily newspaper</td>\n      <td>Töffraser fast doppelt so schnell unterwegs</td>\n      <td>2022-05-11</td>\n      <td>[TRIENT, Der, Kantonspolizei, Wallis, Radarkon...</td>\n      <td>[]</td>\n      <td>0.000000</td>\n      <td>0.000000</td>\n      <td>Lokales</td>\n    </tr>\n    <tr>\n      <th>153186</th>\n      <td>45316227</td>\n      <td>Berner Zeitung</td>\n      <td>Region</td>\n      <td>Regional daily newspaper</td>\n      <td>Keine Wohnung für Autobesitzerinnen und -besitzer</td>\n      <td>2022-02-02</td>\n      <td>[Umstrittener, Parkplatz, Trend, In, Bern, imm...</td>\n      <td>['Schweiz']</td>\n      <td>-0.087500</td>\n      <td>0.125000</td>\n      <td>Lokales</td>\n    </tr>\n    <tr>\n      <th>153191</th>\n      <td>45756810</td>\n      <td>blick.ch</td>\n      <td>Schweiz</td>\n      <td>Online medium</td>\n      <td>Stadt Zürich will Sprayereien am Kamin Josefsw...</td>\n      <td>2022-03-16</td>\n      <td>[Seit, vergangenen, Herbst, zierte, Schriftzug...</td>\n      <td>[]</td>\n      <td>0.423077</td>\n      <td>0.000000</td>\n      <td>Lokales</td>\n    </tr>\n    <tr>\n      <th>153196</th>\n      <td>45361730</td>\n      <td>20 minuten</td>\n      <td>St. Gallen/Region</td>\n      <td>Regional daily newspaper</td>\n      <td>Bürocontainer in Vollbrand</td>\n      <td>2022-02-07</td>\n      <td>[ARBON, Aus, unbekannten, Gründen, brannte, Na...</td>\n      <td>[]</td>\n      <td>-0.850000</td>\n      <td>0.000000</td>\n      <td>Lokales</td>\n    </tr>\n  </tbody>\n</table>\n<p>19419 rows × 11 columns</p>\n</div>"
     },
     "execution_count": 59,
     "metadata": {},
     "output_type": "execute_result"
    }
   ],
   "source": [],
   "metadata": {
    "collapsed": false
   }
  },
  {
   "cell_type": "code",
   "execution_count": null,
   "outputs": [],
   "source": [],
   "metadata": {
    "collapsed": false
   }
  }
 ],
 "metadata": {
  "kernelspec": {
   "display_name": "Python 3 (ipykernel)",
   "language": "python",
   "name": "python3"
  },
  "language_info": {
   "codemirror_mode": {
    "name": "ipython",
    "version": 3
   },
   "file_extension": ".py",
   "mimetype": "text/x-python",
   "name": "python",
   "nbconvert_exporter": "python",
   "pygments_lexer": "ipython3",
   "version": "3.9.15"
  }
 },
 "nbformat": 4,
 "nbformat_minor": 5
}
