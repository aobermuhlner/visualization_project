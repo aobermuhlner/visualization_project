{
 "cells": [
  {
   "cell_type": "code",
   "execution_count": null,
   "outputs": [],
   "source": [
    "import pandas as pd\n",
    "from datetime import datetime\n",
    "from wordcloud import WordCloud\n",
    "import matplotlib.pyplot as plt\n",
    "import word_preprocessing as wpp\n",
    "from textblob_de import TextBlobDE as TextBlob\n",
    "import nltk"
   ],
   "metadata": {
    "collapsed": false
   }
  },
  {
   "cell_type": "code",
   "execution_count": 1,
   "outputs": [
    {
     "data": {
      "text/plain": "   beitragid                beitragdt   \n0   21319059  2017-10-25 00:00:00.000  \\\n1   21312273  2017-10-21 00:00:00.000   \n2   20946237  2017-05-24 00:00:00.000   \n3   21826660  2018-06-29 00:00:00.000   \n4   21820335  2018-06-26 00:00:00.000   \n\n                                           titel  mediumid  anzahlzeichen   \n0                 Über das Ziel hinausgeschossen         1           3178  \\\n1           Gewagte Schätzungen für die SKA 2.0          2           3474   \n2                     Der Spion, den wir liebten         4           7259   \n3                   Endlich Hilfe gegen Migräne!         4           1041   \n4  Swiss Life übernimmt deutsche Immobilienfirma         1           1362   \n\n  Abstract                                             Inhalt  \n0      NaN  André Müller, amü\\nWerde digitaler, sonst steh...  \n1      NaN  Gewagte Schätzungen für die SKA 2.0 \n\n\n       ...  \n2      NaN  Jean-Claude Galli\\nIn den letzten Jahren ist e...  \n3      NaN  Neue Spritze bald auf dem Markt 1 Million Schw...  \n4      NaN  (sda) · Die Swiss Life baut ihre Stellung am d...  ",
      "text/html": "<div>\n<style scoped>\n    .dataframe tbody tr th:only-of-type {\n        vertical-align: middle;\n    }\n\n    .dataframe tbody tr th {\n        vertical-align: top;\n    }\n\n    .dataframe thead th {\n        text-align: right;\n    }\n</style>\n<table border=\"1\" class=\"dataframe\">\n  <thead>\n    <tr style=\"text-align: right;\">\n      <th></th>\n      <th>beitragid</th>\n      <th>beitragdt</th>\n      <th>titel</th>\n      <th>mediumid</th>\n      <th>anzahlzeichen</th>\n      <th>Abstract</th>\n      <th>Inhalt</th>\n    </tr>\n  </thead>\n  <tbody>\n    <tr>\n      <th>0</th>\n      <td>21319059</td>\n      <td>2017-10-25 00:00:00.000</td>\n      <td>Über das Ziel hinausgeschossen</td>\n      <td>1</td>\n      <td>3178</td>\n      <td>NaN</td>\n      <td>André Müller, amü\\nWerde digitaler, sonst steh...</td>\n    </tr>\n    <tr>\n      <th>1</th>\n      <td>21312273</td>\n      <td>2017-10-21 00:00:00.000</td>\n      <td>Gewagte Schätzungen für die SKA 2.0</td>\n      <td>2</td>\n      <td>3474</td>\n      <td>NaN</td>\n      <td>Gewagte Schätzungen für die SKA 2.0 \u000B\u000B\u000B       ...</td>\n    </tr>\n    <tr>\n      <th>2</th>\n      <td>20946237</td>\n      <td>2017-05-24 00:00:00.000</td>\n      <td>Der Spion, den wir liebten</td>\n      <td>4</td>\n      <td>7259</td>\n      <td>NaN</td>\n      <td>Jean-Claude Galli\\nIn den letzten Jahren ist e...</td>\n    </tr>\n    <tr>\n      <th>3</th>\n      <td>21826660</td>\n      <td>2018-06-29 00:00:00.000</td>\n      <td>Endlich Hilfe gegen Migräne!</td>\n      <td>4</td>\n      <td>1041</td>\n      <td>NaN</td>\n      <td>Neue Spritze bald auf dem Markt 1 Million Schw...</td>\n    </tr>\n    <tr>\n      <th>4</th>\n      <td>21820335</td>\n      <td>2018-06-26 00:00:00.000</td>\n      <td>Swiss Life übernimmt deutsche Immobilienfirma</td>\n      <td>1</td>\n      <td>1362</td>\n      <td>NaN</td>\n      <td>(sda) · Die Swiss Life baut ihre Stellung am d...</td>\n    </tr>\n  </tbody>\n</table>\n</div>"
     },
     "execution_count": 1,
     "metadata": {},
     "output_type": "execute_result"
    }
   ],
   "source": [
    "data = pd.read_csv(\"../data/daten_aijan_filtered.csv\")\n",
    "data.head()"
   ],
   "metadata": {
    "collapsed": false
   }
  },
  {
   "cell_type": "code",
   "execution_count": 2,
   "outputs": [
    {
     "data": {
      "text/plain": "   beitragid                                          titel  mediumid   \n0   21319059                 Über das Ziel hinausgeschossen         1  \\\n1   21312273           Gewagte Schätzungen für die SKA 2.0          2   \n2   20946237                     Der Spion, den wir liebten         4   \n3   21826660                   Endlich Hilfe gegen Migräne!         4   \n4   21820335  Swiss Life übernimmt deutsche Immobilienfirma         1   \n\n   anzahlzeichen                                             Inhalt   \n0           3178  André Müller, amü\\nWerde digitaler, sonst steh...  \\\n1           3474  Gewagte Schätzungen für die SKA 2.0 \n\n\n       ...   \n2           7259  Jean-Claude Galli\\nIn den letzten Jahren ist e...   \n3           1041  Neue Spritze bald auf dem Markt 1 Million Schw...   \n4           1362  (sda) · Die Swiss Life baut ihre Stellung am d...   \n\n        datum  \n0  2017-10-25  \n1  2017-10-21  \n2  2017-05-24  \n3  2018-06-29  \n4  2018-06-26  ",
      "text/html": "<div>\n<style scoped>\n    .dataframe tbody tr th:only-of-type {\n        vertical-align: middle;\n    }\n\n    .dataframe tbody tr th {\n        vertical-align: top;\n    }\n\n    .dataframe thead th {\n        text-align: right;\n    }\n</style>\n<table border=\"1\" class=\"dataframe\">\n  <thead>\n    <tr style=\"text-align: right;\">\n      <th></th>\n      <th>beitragid</th>\n      <th>titel</th>\n      <th>mediumid</th>\n      <th>anzahlzeichen</th>\n      <th>Inhalt</th>\n      <th>datum</th>\n    </tr>\n  </thead>\n  <tbody>\n    <tr>\n      <th>0</th>\n      <td>21319059</td>\n      <td>Über das Ziel hinausgeschossen</td>\n      <td>1</td>\n      <td>3178</td>\n      <td>André Müller, amü\\nWerde digitaler, sonst steh...</td>\n      <td>2017-10-25</td>\n    </tr>\n    <tr>\n      <th>1</th>\n      <td>21312273</td>\n      <td>Gewagte Schätzungen für die SKA 2.0</td>\n      <td>2</td>\n      <td>3474</td>\n      <td>Gewagte Schätzungen für die SKA 2.0 \u000B\u000B\u000B       ...</td>\n      <td>2017-10-21</td>\n    </tr>\n    <tr>\n      <th>2</th>\n      <td>20946237</td>\n      <td>Der Spion, den wir liebten</td>\n      <td>4</td>\n      <td>7259</td>\n      <td>Jean-Claude Galli\\nIn den letzten Jahren ist e...</td>\n      <td>2017-05-24</td>\n    </tr>\n    <tr>\n      <th>3</th>\n      <td>21826660</td>\n      <td>Endlich Hilfe gegen Migräne!</td>\n      <td>4</td>\n      <td>1041</td>\n      <td>Neue Spritze bald auf dem Markt 1 Million Schw...</td>\n      <td>2018-06-29</td>\n    </tr>\n    <tr>\n      <th>4</th>\n      <td>21820335</td>\n      <td>Swiss Life übernimmt deutsche Immobilienfirma</td>\n      <td>1</td>\n      <td>1362</td>\n      <td>(sda) · Die Swiss Life baut ihre Stellung am d...</td>\n      <td>2018-06-26</td>\n    </tr>\n  </tbody>\n</table>\n</div>"
     },
     "execution_count": 2,
     "metadata": {},
     "output_type": "execute_result"
    }
   ],
   "source": [
    "# Datum bereinigen & redundante Zeilen löschen\n",
    "\n",
    "data['datum'] = data['beitragdt'].apply(lambda x: datetime.strptime(x, '%Y-%m-%d %H:%M:%S.%f').date())\n",
    "del data['beitragdt']\n",
    "del data['Abstract']\n",
    "data.head()"
   ],
   "metadata": {
    "collapsed": false
   }
  },
  {
   "cell_type": "code",
   "execution_count": 20,
   "outputs": [
    {
     "name": "stderr",
     "output_type": "stream",
     "text": [
      "C:\\Users\\linus\\AppData\\Local\\Temp\\ipykernel_1156\\1560632050.py:4: SettingWithCopyWarning: \n",
      "A value is trying to be set on a copy of a slice from a DataFrame\n",
      "\n",
      "See the caveats in the documentation: https://pandas.pydata.org/pandas-docs/stable/user_guide/indexing.html#returning-a-view-versus-a-copy\n",
      "  data['titel_preprocessed'][:100] = preprocesser.preprocess_headlines(data['titel'][:100])\n"
     ]
    },
    {
     "data": {
      "text/plain": "       beitragid                                              titel  mediumid   \n0       21319059                     Über das Ziel hinausgeschossen         1  \\\n1       21312273               Gewagte Schätzungen für die SKA 2.0          2   \n2       20946237                         Der Spion, den wir liebten         4   \n3       21826660                       Endlich Hilfe gegen Migräne!         4   \n4       21820335      Swiss Life übernimmt deutsche Immobilienfirma         1   \n...          ...                                                ...       ...   \n35892   22561096                                         kein Titel       946   \n35893   23150512  Schweizer Händler profitieren von Waldbränden ...       950   \n35894   23009642  Swiss Life begrüsst Pläne zu tieferem Umwandlu...       946   \n35895   23209865    «Die Reputation der Credit Suisse hat gelitten»       946   \n35896   22187065                           Das Schweigen der Männer       950   \n\n       anzahlzeichen                                             Inhalt   \n0               3178  André Müller, amü\\nWerde digitaler, sonst steh...  \\\n1               3474  Gewagte Schätzungen für die SKA 2.0 \n\n\n       ...   \n2               7259  Jean-Claude Galli\\nIn den letzten Jahren ist e...   \n3               1041  Neue Spritze bald auf dem Markt 1 Million Schw...   \n4               1362  (sda) · Die Swiss Life baut ihre Stellung am d...   \n...              ...                                                ...   \n35892           1073  Ein explosiver Vorwurf: «Was Roche tut, ist ei...   \n35893           7467  In einem unscheinbaren Gebäude am Chemin de No...   \n35894           2113  Die Vorschläge, welche die Sozialpartner und d...   \n35895           4153  Die Bespitzelungsaffäre bei der Credit Suisse ...   \n35896           7752   Dass sich das kleine Gartenhag-Zeichen mit de...   \n\n            datum  Sentiment                             titel_preprocessed  \n0      2017-10-25   0.150000                          Ziel hinausgeschossen  \n1      2017-10-21   0.175714                        Gewagt Schätzung SKA 20  \n2      2017-05-24   0.210423                                   Spion lieben  \n3      2018-06-29  -0.200000                                   Hilfe Migran  \n4      2018-06-26   0.231818  Swiss Life übernehmen deutsch Immobilienfirma  \n...           ...        ...                                            ...  \n35892  2019-02-09        NaN                                            NaN  \n35893  2019-09-08        NaN                                            NaN  \n35894  2019-07-15        NaN                                            NaN  \n35895  2019-10-01        NaN                                            NaN  \n35896  2018-10-06        NaN                                            NaN  \n\n[35897 rows x 8 columns]",
      "text/html": "<div>\n<style scoped>\n    .dataframe tbody tr th:only-of-type {\n        vertical-align: middle;\n    }\n\n    .dataframe tbody tr th {\n        vertical-align: top;\n    }\n\n    .dataframe thead th {\n        text-align: right;\n    }\n</style>\n<table border=\"1\" class=\"dataframe\">\n  <thead>\n    <tr style=\"text-align: right;\">\n      <th></th>\n      <th>beitragid</th>\n      <th>titel</th>\n      <th>mediumid</th>\n      <th>anzahlzeichen</th>\n      <th>Inhalt</th>\n      <th>datum</th>\n      <th>Sentiment</th>\n      <th>titel_preprocessed</th>\n    </tr>\n  </thead>\n  <tbody>\n    <tr>\n      <th>0</th>\n      <td>21319059</td>\n      <td>Über das Ziel hinausgeschossen</td>\n      <td>1</td>\n      <td>3178</td>\n      <td>André Müller, amü\\nWerde digitaler, sonst steh...</td>\n      <td>2017-10-25</td>\n      <td>0.150000</td>\n      <td>Ziel hinausgeschossen</td>\n    </tr>\n    <tr>\n      <th>1</th>\n      <td>21312273</td>\n      <td>Gewagte Schätzungen für die SKA 2.0</td>\n      <td>2</td>\n      <td>3474</td>\n      <td>Gewagte Schätzungen für die SKA 2.0 \u000B\u000B\u000B       ...</td>\n      <td>2017-10-21</td>\n      <td>0.175714</td>\n      <td>Gewagt Schätzung SKA 20</td>\n    </tr>\n    <tr>\n      <th>2</th>\n      <td>20946237</td>\n      <td>Der Spion, den wir liebten</td>\n      <td>4</td>\n      <td>7259</td>\n      <td>Jean-Claude Galli\\nIn den letzten Jahren ist e...</td>\n      <td>2017-05-24</td>\n      <td>0.210423</td>\n      <td>Spion lieben</td>\n    </tr>\n    <tr>\n      <th>3</th>\n      <td>21826660</td>\n      <td>Endlich Hilfe gegen Migräne!</td>\n      <td>4</td>\n      <td>1041</td>\n      <td>Neue Spritze bald auf dem Markt 1 Million Schw...</td>\n      <td>2018-06-29</td>\n      <td>-0.200000</td>\n      <td>Hilfe Migran</td>\n    </tr>\n    <tr>\n      <th>4</th>\n      <td>21820335</td>\n      <td>Swiss Life übernimmt deutsche Immobilienfirma</td>\n      <td>1</td>\n      <td>1362</td>\n      <td>(sda) · Die Swiss Life baut ihre Stellung am d...</td>\n      <td>2018-06-26</td>\n      <td>0.231818</td>\n      <td>Swiss Life übernehmen deutsch Immobilienfirma</td>\n    </tr>\n    <tr>\n      <th>...</th>\n      <td>...</td>\n      <td>...</td>\n      <td>...</td>\n      <td>...</td>\n      <td>...</td>\n      <td>...</td>\n      <td>...</td>\n      <td>...</td>\n    </tr>\n    <tr>\n      <th>35892</th>\n      <td>22561096</td>\n      <td>kein Titel</td>\n      <td>946</td>\n      <td>1073</td>\n      <td>Ein explosiver Vorwurf: «Was Roche tut, ist ei...</td>\n      <td>2019-02-09</td>\n      <td>NaN</td>\n      <td>NaN</td>\n    </tr>\n    <tr>\n      <th>35893</th>\n      <td>23150512</td>\n      <td>Schweizer Händler profitieren von Waldbränden ...</td>\n      <td>950</td>\n      <td>7467</td>\n      <td>In einem unscheinbaren Gebäude am Chemin de No...</td>\n      <td>2019-09-08</td>\n      <td>NaN</td>\n      <td>NaN</td>\n    </tr>\n    <tr>\n      <th>35894</th>\n      <td>23009642</td>\n      <td>Swiss Life begrüsst Pläne zu tieferem Umwandlu...</td>\n      <td>946</td>\n      <td>2113</td>\n      <td>Die Vorschläge, welche die Sozialpartner und d...</td>\n      <td>2019-07-15</td>\n      <td>NaN</td>\n      <td>NaN</td>\n    </tr>\n    <tr>\n      <th>35895</th>\n      <td>23209865</td>\n      <td>«Die Reputation der Credit Suisse hat gelitten»</td>\n      <td>946</td>\n      <td>4153</td>\n      <td>Die Bespitzelungsaffäre bei der Credit Suisse ...</td>\n      <td>2019-10-01</td>\n      <td>NaN</td>\n      <td>NaN</td>\n    </tr>\n    <tr>\n      <th>35896</th>\n      <td>22187065</td>\n      <td>Das Schweigen der Männer</td>\n      <td>950</td>\n      <td>7752</td>\n      <td>Dass sich das kleine Gartenhag-Zeichen mit de...</td>\n      <td>2018-10-06</td>\n      <td>NaN</td>\n      <td>NaN</td>\n    </tr>\n  </tbody>\n</table>\n<p>35897 rows × 8 columns</p>\n</div>"
     },
     "execution_count": 20,
     "metadata": {},
     "output_type": "execute_result"
    }
   ],
   "source": [
    "# Headlines aufbereiten mit Klasse word_preprocessing\n",
    "# testweise nur 100 erste Zeilen\n",
    "\n",
    "preprocesser = wpp.headline_preprocessing()\n",
    "data['titel_preprocessed'][:100] = preprocesser.preprocess_headlines(data['titel'][:100])\n",
    "data"
   ],
   "metadata": {
    "collapsed": false
   }
  },
  {
   "cell_type": "code",
   "execution_count": 14,
   "outputs": [],
   "source": [
    "def get_topic_sentiments(headlines):\n",
    "    headline_blob = TextBlob(headlines)\n",
    "    return headline_blob.sentiment.polarity\n",
    "\n",
    "# Sentiment-Analyse\n",
    "# testweise nur 100 erste Zeilen\n",
    "\n",
    "data['Sentiment'] = data['Inhalt'][0:100].apply(lambda x: get_topic_sentiments(x))"
   ],
   "metadata": {
    "collapsed": false
   }
  },
  {
   "cell_type": "code",
   "execution_count": 15,
   "outputs": [
    {
     "data": {
      "text/plain": "       beitragid                                              titel  mediumid   \n0       21319059                     Über das Ziel hinausgeschossen         1  \\\n1       21312273               Gewagte Schätzungen für die SKA 2.0          2   \n2       20946237                         Der Spion, den wir liebten         4   \n3       21826660                       Endlich Hilfe gegen Migräne!         4   \n4       21820335      Swiss Life übernimmt deutsche Immobilienfirma         1   \n...          ...                                                ...       ...   \n35892   22561096                                         kein Titel       946   \n35893   23150512  Schweizer Händler profitieren von Waldbränden ...       950   \n35894   23009642  Swiss Life begrüsst Pläne zu tieferem Umwandlu...       946   \n35895   23209865    «Die Reputation der Credit Suisse hat gelitten»       946   \n35896   22187065                           Das Schweigen der Männer       950   \n\n       anzahlzeichen                                             Inhalt   \n0               3178  André Müller, amü\\nWerde digitaler, sonst steh...  \\\n1               3474  Gewagte Schätzungen für die SKA 2.0 \n\n\n       ...   \n2               7259  Jean-Claude Galli\\nIn den letzten Jahren ist e...   \n3               1041  Neue Spritze bald auf dem Markt 1 Million Schw...   \n4               1362  (sda) · Die Swiss Life baut ihre Stellung am d...   \n...              ...                                                ...   \n35892           1073  Ein explosiver Vorwurf: «Was Roche tut, ist ei...   \n35893           7467  In einem unscheinbaren Gebäude am Chemin de No...   \n35894           2113  Die Vorschläge, welche die Sozialpartner und d...   \n35895           4153  Die Bespitzelungsaffäre bei der Credit Suisse ...   \n35896           7752   Dass sich das kleine Gartenhag-Zeichen mit de...   \n\n            datum  Sentiment  \n0      2017-10-25   0.150000  \n1      2017-10-21   0.175714  \n2      2017-05-24   0.210423  \n3      2018-06-29  -0.200000  \n4      2018-06-26   0.231818  \n...           ...        ...  \n35892  2019-02-09        NaN  \n35893  2019-09-08        NaN  \n35894  2019-07-15        NaN  \n35895  2019-10-01        NaN  \n35896  2018-10-06        NaN  \n\n[35897 rows x 7 columns]",
      "text/html": "<div>\n<style scoped>\n    .dataframe tbody tr th:only-of-type {\n        vertical-align: middle;\n    }\n\n    .dataframe tbody tr th {\n        vertical-align: top;\n    }\n\n    .dataframe thead th {\n        text-align: right;\n    }\n</style>\n<table border=\"1\" class=\"dataframe\">\n  <thead>\n    <tr style=\"text-align: right;\">\n      <th></th>\n      <th>beitragid</th>\n      <th>titel</th>\n      <th>mediumid</th>\n      <th>anzahlzeichen</th>\n      <th>Inhalt</th>\n      <th>datum</th>\n      <th>Sentiment</th>\n    </tr>\n  </thead>\n  <tbody>\n    <tr>\n      <th>0</th>\n      <td>21319059</td>\n      <td>Über das Ziel hinausgeschossen</td>\n      <td>1</td>\n      <td>3178</td>\n      <td>André Müller, amü\\nWerde digitaler, sonst steh...</td>\n      <td>2017-10-25</td>\n      <td>0.150000</td>\n    </tr>\n    <tr>\n      <th>1</th>\n      <td>21312273</td>\n      <td>Gewagte Schätzungen für die SKA 2.0</td>\n      <td>2</td>\n      <td>3474</td>\n      <td>Gewagte Schätzungen für die SKA 2.0 \u000B\u000B\u000B       ...</td>\n      <td>2017-10-21</td>\n      <td>0.175714</td>\n    </tr>\n    <tr>\n      <th>2</th>\n      <td>20946237</td>\n      <td>Der Spion, den wir liebten</td>\n      <td>4</td>\n      <td>7259</td>\n      <td>Jean-Claude Galli\\nIn den letzten Jahren ist e...</td>\n      <td>2017-05-24</td>\n      <td>0.210423</td>\n    </tr>\n    <tr>\n      <th>3</th>\n      <td>21826660</td>\n      <td>Endlich Hilfe gegen Migräne!</td>\n      <td>4</td>\n      <td>1041</td>\n      <td>Neue Spritze bald auf dem Markt 1 Million Schw...</td>\n      <td>2018-06-29</td>\n      <td>-0.200000</td>\n    </tr>\n    <tr>\n      <th>4</th>\n      <td>21820335</td>\n      <td>Swiss Life übernimmt deutsche Immobilienfirma</td>\n      <td>1</td>\n      <td>1362</td>\n      <td>(sda) · Die Swiss Life baut ihre Stellung am d...</td>\n      <td>2018-06-26</td>\n      <td>0.231818</td>\n    </tr>\n    <tr>\n      <th>...</th>\n      <td>...</td>\n      <td>...</td>\n      <td>...</td>\n      <td>...</td>\n      <td>...</td>\n      <td>...</td>\n      <td>...</td>\n    </tr>\n    <tr>\n      <th>35892</th>\n      <td>22561096</td>\n      <td>kein Titel</td>\n      <td>946</td>\n      <td>1073</td>\n      <td>Ein explosiver Vorwurf: «Was Roche tut, ist ei...</td>\n      <td>2019-02-09</td>\n      <td>NaN</td>\n    </tr>\n    <tr>\n      <th>35893</th>\n      <td>23150512</td>\n      <td>Schweizer Händler profitieren von Waldbränden ...</td>\n      <td>950</td>\n      <td>7467</td>\n      <td>In einem unscheinbaren Gebäude am Chemin de No...</td>\n      <td>2019-09-08</td>\n      <td>NaN</td>\n    </tr>\n    <tr>\n      <th>35894</th>\n      <td>23009642</td>\n      <td>Swiss Life begrüsst Pläne zu tieferem Umwandlu...</td>\n      <td>946</td>\n      <td>2113</td>\n      <td>Die Vorschläge, welche die Sozialpartner und d...</td>\n      <td>2019-07-15</td>\n      <td>NaN</td>\n    </tr>\n    <tr>\n      <th>35895</th>\n      <td>23209865</td>\n      <td>«Die Reputation der Credit Suisse hat gelitten»</td>\n      <td>946</td>\n      <td>4153</td>\n      <td>Die Bespitzelungsaffäre bei der Credit Suisse ...</td>\n      <td>2019-10-01</td>\n      <td>NaN</td>\n    </tr>\n    <tr>\n      <th>35896</th>\n      <td>22187065</td>\n      <td>Das Schweigen der Männer</td>\n      <td>950</td>\n      <td>7752</td>\n      <td>Dass sich das kleine Gartenhag-Zeichen mit de...</td>\n      <td>2018-10-06</td>\n      <td>NaN</td>\n    </tr>\n  </tbody>\n</table>\n<p>35897 rows × 7 columns</p>\n</div>"
     },
     "execution_count": 15,
     "metadata": {},
     "output_type": "execute_result"
    }
   ],
   "source": [
    "data"
   ],
   "metadata": {
    "collapsed": false
   }
  }
 ],
 "metadata": {
  "kernelspec": {
   "display_name": "Python 3 (ipykernel)",
   "language": "python",
   "name": "python3"
  },
  "language_info": {
   "codemirror_mode": {
    "name": "ipython",
    "version": 3
   },
   "file_extension": ".py",
   "mimetype": "text/x-python",
   "name": "python",
   "nbconvert_exporter": "python",
   "pygments_lexer": "ipython3",
   "version": "3.9.15"
  }
 },
 "nbformat": 4,
 "nbformat_minor": 5
}
