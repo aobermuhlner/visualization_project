{
 "cells": [
  {
   "cell_type": "code",
   "execution_count": 2,
   "outputs": [],
   "source": [
    "import pandas as pd\n",
    "import word_preprocessing as wpp\n",
    "from textblob_de import TextBlobDE as TextBlob\n",
    "import countryExtractor as ce"
   ],
   "metadata": {
    "collapsed": false
   }
  },
  {
   "cell_type": "code",
   "execution_count": 4,
   "outputs": [],
   "source": [
    "data = pd.read_excel(\"../data/data_vdss.xlsx\")"
   ],
   "metadata": {
    "collapsed": false
   }
  },
  {
   "cell_type": "code",
   "execution_count": 6,
   "outputs": [],
   "source": [
    "# Datum bereinigen & redundante Spalten löschen\n",
    "data['datum'] = data['pubtime'].str.extract(r'(\\d{4}-\\d{2}-\\d{2})')\n",
    "del data['pubtime']\n",
    "del data['medium_code']\n",
    "del data['regional']\n",
    "del data['doctype']\n",
    "del data['language']\n",
    "del data['char_count']\n",
    "del data['dateline']\n",
    "del data['subhead']\n",
    "del data['content_id']"
   ],
   "metadata": {
    "collapsed": false
   }
  },
  {
   "cell_type": "code",
   "execution_count": null,
   "outputs": [],
   "source": [
    "# Headlines aufbereiten mit Klasse word_preprocessing\n",
    "\n",
    "preprocesser = wpp.headline_preprocessing()\n",
    "data['content_processed'] = data['content'].apply(lambda x: preprocesser.preprocess_text(x) if isinstance(x, str) else [])\n",
    "del data['content']\n",
    "data"
   ],
   "metadata": {
    "collapsed": false,
    "pycharm": {
     "is_executing": true
    }
   }
  },
  {
   "cell_type": "code",
   "execution_count": 21,
   "outputs": [
    {
     "name": "stdout",
     "output_type": "stream",
     "text": [
      "Unexpected exception formatting exception. Falling back to standard exception\n"
     ]
    },
    {
     "name": "stderr",
     "output_type": "stream",
     "text": [
      "Traceback (most recent call last):\n",
      "  File \"C:\\Users\\linus\\anaconda3\\lib\\site-packages\\IPython\\core\\interactiveshell.py\", line 3398, in run_code\n",
      "    exec(code_obj, self.user_global_ns, self.user_ns)\n",
      "  File \"C:\\Users\\linus\\AppData\\Local\\Temp\\ipykernel_18232\\1111091668.py\", line 3, in <cell line: 3>\n",
      "    data['laender'] = data['content'].apply(lambda x: extractor.get_country(x) if isinstance(x, str) else [])\n",
      "  File \"C:\\Users\\linus\\anaconda3\\lib\\site-packages\\pandas\\core\\series.py\", line 4631, in apply\n",
      "    return SeriesApply(self, func, convert_dtype, args, kwargs).apply()\n",
      "  File \"C:\\Users\\linus\\anaconda3\\lib\\site-packages\\pandas\\core\\apply.py\", line 1025, in apply\n",
      "    return self.apply_standard()\n",
      "  File \"C:\\Users\\linus\\anaconda3\\lib\\site-packages\\pandas\\core\\apply.py\", line 1076, in apply_standard\n",
      "    mapped = lib.map_infer(\n",
      "  File \"pandas\\_libs\\lib.pyx\", line 2834, in pandas._libs.lib.map_infer\n",
      "  File \"C:\\Users\\linus\\AppData\\Local\\Temp\\ipykernel_18232\\1111091668.py\", line 3, in <lambda>\n",
      "    data['laender'] = data['content'].apply(lambda x: extractor.get_country(x) if isinstance(x, str) else [])\n",
      "  File \"C:\\Users\\linus\\OneDrive\\BSc_Data_Science\\Semester_2\\Data_Visualisation\\visualization_project\\code\\countryExtractor.py\", line 23, in get_country\n",
      "KeyboardInterrupt\n",
      "\n",
      "During handling of the above exception, another exception occurred:\n",
      "\n",
      "Traceback (most recent call last):\n",
      "  File \"C:\\Users\\linus\\anaconda3\\lib\\site-packages\\IPython\\core\\interactiveshell.py\", line 1993, in showtraceback\n",
      "    stb = self.InteractiveTB.structured_traceback(\n",
      "  File \"C:\\Users\\linus\\anaconda3\\lib\\site-packages\\IPython\\core\\ultratb.py\", line 1118, in structured_traceback\n",
      "    return FormattedTB.structured_traceback(\n",
      "  File \"C:\\Users\\linus\\anaconda3\\lib\\site-packages\\IPython\\core\\ultratb.py\", line 1012, in structured_traceback\n",
      "    return VerboseTB.structured_traceback(\n",
      "  File \"C:\\Users\\linus\\anaconda3\\lib\\site-packages\\IPython\\core\\ultratb.py\", line 865, in structured_traceback\n",
      "    formatted_exception = self.format_exception_as_a_whole(etype, evalue, etb, number_of_lines_of_context,\n",
      "  File \"C:\\Users\\linus\\anaconda3\\lib\\site-packages\\IPython\\core\\ultratb.py\", line 818, in format_exception_as_a_whole\n",
      "    frames.append(self.format_record(r))\n",
      "  File \"C:\\Users\\linus\\anaconda3\\lib\\site-packages\\IPython\\core\\ultratb.py\", line 736, in format_record\n",
      "    result += ''.join(_format_traceback_lines(frame_info.lines, Colors, self.has_colors, lvals))\n",
      "  File \"C:\\Users\\linus\\anaconda3\\lib\\site-packages\\stack_data\\utils.py\", line 145, in cached_property_wrapper\n",
      "    value = obj.__dict__[self.func.__name__] = self.func(obj)\n",
      "  File \"C:\\Users\\linus\\anaconda3\\lib\\site-packages\\stack_data\\core.py\", line 698, in lines\n",
      "    pieces = self.included_pieces\n",
      "  File \"C:\\Users\\linus\\anaconda3\\lib\\site-packages\\stack_data\\utils.py\", line 145, in cached_property_wrapper\n",
      "    value = obj.__dict__[self.func.__name__] = self.func(obj)\n",
      "  File \"C:\\Users\\linus\\anaconda3\\lib\\site-packages\\stack_data\\core.py\", line 649, in included_pieces\n",
      "    pos = scope_pieces.index(self.executing_piece)\n",
      "  File \"C:\\Users\\linus\\anaconda3\\lib\\site-packages\\stack_data\\utils.py\", line 145, in cached_property_wrapper\n",
      "    value = obj.__dict__[self.func.__name__] = self.func(obj)\n",
      "  File \"C:\\Users\\linus\\anaconda3\\lib\\site-packages\\stack_data\\core.py\", line 628, in executing_piece\n",
      "    return only(\n",
      "  File \"C:\\Users\\linus\\anaconda3\\lib\\site-packages\\executing\\executing.py\", line 164, in only\n",
      "    raise NotOneValueFound('Expected one value, found 0')\n",
      "executing.executing.NotOneValueFound: Expected one value, found 0\n"
     ]
    }
   ],
   "source": [
    "extractor = ce.countryExtractor()\n",
    "# data['countries'] = data['content'].apply(lambda x: extractor.get_country(x) if isinstance(x, str) else [])"
   ],
   "metadata": {
    "collapsed": false
   }
  },
  {
   "cell_type": "code",
   "execution_count": 24,
   "outputs": [
    {
     "data": {
      "text/plain": "id                                                              48304457\nmedium_name                                                Sonntagsblick\nrubric                                                       NACHRICHTEN\ndoctype_description                            Regional weekly newspaper\nhead                                    Die Armbinden-Allianz schwächelt\ncontent                <tx><ld><p>Deutschland und Dänemark nehmen das...\ndatum                                                         2022-11-27\nlaender                [Belgien, Dänemark, Deutschland, Japan, Nieder...\nName: 136, dtype: object"
     },
     "execution_count": 24,
     "metadata": {},
     "output_type": "execute_result"
    }
   ],
   "source": [
    "data.loc[136]"
   ],
   "metadata": {
    "collapsed": false
   }
  },
  {
   "cell_type": "code",
   "execution_count": 14,
   "outputs": [],
   "source": [
    "def get_topic_sentiments(headlines):\n",
    "    headline_blob = TextBlob(headlines)\n",
    "    return headline_blob.sentiment.polarity\n",
    "\n",
    "# Sentiment-Analyse\n",
    "# testweise nur 100 erste Zeilen\n",
    "\n",
    "data['Sentiment'] = data['Inhalt'][0:100].apply(lambda x: get_topic_sentiments(x))"
   ],
   "metadata": {
    "collapsed": false
   }
  },
  {
   "cell_type": "code",
   "execution_count": 15,
   "outputs": [
    {
     "data": {
      "text/plain": "       beitragid                                              titel  mediumid   \n0       21319059                     Über das Ziel hinausgeschossen         1  \\\n1       21312273               Gewagte Schätzungen für die SKA 2.0          2   \n2       20946237                         Der Spion, den wir liebten         4   \n3       21826660                       Endlich Hilfe gegen Migräne!         4   \n4       21820335      Swiss Life übernimmt deutsche Immobilienfirma         1   \n...          ...                                                ...       ...   \n35892   22561096                                         kein Titel       946   \n35893   23150512  Schweizer Händler profitieren von Waldbränden ...       950   \n35894   23009642  Swiss Life begrüsst Pläne zu tieferem Umwandlu...       946   \n35895   23209865    «Die Reputation der Credit Suisse hat gelitten»       946   \n35896   22187065                           Das Schweigen der Männer       950   \n\n       anzahlzeichen                                             Inhalt   \n0               3178  André Müller, amü\\nWerde digitaler, sonst steh...  \\\n1               3474  Gewagte Schätzungen für die SKA 2.0 \n\n\n       ...   \n2               7259  Jean-Claude Galli\\nIn den letzten Jahren ist e...   \n3               1041  Neue Spritze bald auf dem Markt 1 Million Schw...   \n4               1362  (sda) · Die Swiss Life baut ihre Stellung am d...   \n...              ...                                                ...   \n35892           1073  Ein explosiver Vorwurf: «Was Roche tut, ist ei...   \n35893           7467  In einem unscheinbaren Gebäude am Chemin de No...   \n35894           2113  Die Vorschläge, welche die Sozialpartner und d...   \n35895           4153  Die Bespitzelungsaffäre bei der Credit Suisse ...   \n35896           7752   Dass sich das kleine Gartenhag-Zeichen mit de...   \n\n            datum  Sentiment  \n0      2017-10-25   0.150000  \n1      2017-10-21   0.175714  \n2      2017-05-24   0.210423  \n3      2018-06-29  -0.200000  \n4      2018-06-26   0.231818  \n...           ...        ...  \n35892  2019-02-09        NaN  \n35893  2019-09-08        NaN  \n35894  2019-07-15        NaN  \n35895  2019-10-01        NaN  \n35896  2018-10-06        NaN  \n\n[35897 rows x 7 columns]",
      "text/html": "<div>\n<style scoped>\n    .dataframe tbody tr th:only-of-type {\n        vertical-align: middle;\n    }\n\n    .dataframe tbody tr th {\n        vertical-align: top;\n    }\n\n    .dataframe thead th {\n        text-align: right;\n    }\n</style>\n<table border=\"1\" class=\"dataframe\">\n  <thead>\n    <tr style=\"text-align: right;\">\n      <th></th>\n      <th>beitragid</th>\n      <th>titel</th>\n      <th>mediumid</th>\n      <th>anzahlzeichen</th>\n      <th>Inhalt</th>\n      <th>datum</th>\n      <th>Sentiment</th>\n    </tr>\n  </thead>\n  <tbody>\n    <tr>\n      <th>0</th>\n      <td>21319059</td>\n      <td>Über das Ziel hinausgeschossen</td>\n      <td>1</td>\n      <td>3178</td>\n      <td>André Müller, amü\\nWerde digitaler, sonst steh...</td>\n      <td>2017-10-25</td>\n      <td>0.150000</td>\n    </tr>\n    <tr>\n      <th>1</th>\n      <td>21312273</td>\n      <td>Gewagte Schätzungen für die SKA 2.0</td>\n      <td>2</td>\n      <td>3474</td>\n      <td>Gewagte Schätzungen für die SKA 2.0 \u000B\u000B\u000B       ...</td>\n      <td>2017-10-21</td>\n      <td>0.175714</td>\n    </tr>\n    <tr>\n      <th>2</th>\n      <td>20946237</td>\n      <td>Der Spion, den wir liebten</td>\n      <td>4</td>\n      <td>7259</td>\n      <td>Jean-Claude Galli\\nIn den letzten Jahren ist e...</td>\n      <td>2017-05-24</td>\n      <td>0.210423</td>\n    </tr>\n    <tr>\n      <th>3</th>\n      <td>21826660</td>\n      <td>Endlich Hilfe gegen Migräne!</td>\n      <td>4</td>\n      <td>1041</td>\n      <td>Neue Spritze bald auf dem Markt 1 Million Schw...</td>\n      <td>2018-06-29</td>\n      <td>-0.200000</td>\n    </tr>\n    <tr>\n      <th>4</th>\n      <td>21820335</td>\n      <td>Swiss Life übernimmt deutsche Immobilienfirma</td>\n      <td>1</td>\n      <td>1362</td>\n      <td>(sda) · Die Swiss Life baut ihre Stellung am d...</td>\n      <td>2018-06-26</td>\n      <td>0.231818</td>\n    </tr>\n    <tr>\n      <th>...</th>\n      <td>...</td>\n      <td>...</td>\n      <td>...</td>\n      <td>...</td>\n      <td>...</td>\n      <td>...</td>\n      <td>...</td>\n    </tr>\n    <tr>\n      <th>35892</th>\n      <td>22561096</td>\n      <td>kein Titel</td>\n      <td>946</td>\n      <td>1073</td>\n      <td>Ein explosiver Vorwurf: «Was Roche tut, ist ei...</td>\n      <td>2019-02-09</td>\n      <td>NaN</td>\n    </tr>\n    <tr>\n      <th>35893</th>\n      <td>23150512</td>\n      <td>Schweizer Händler profitieren von Waldbränden ...</td>\n      <td>950</td>\n      <td>7467</td>\n      <td>In einem unscheinbaren Gebäude am Chemin de No...</td>\n      <td>2019-09-08</td>\n      <td>NaN</td>\n    </tr>\n    <tr>\n      <th>35894</th>\n      <td>23009642</td>\n      <td>Swiss Life begrüsst Pläne zu tieferem Umwandlu...</td>\n      <td>946</td>\n      <td>2113</td>\n      <td>Die Vorschläge, welche die Sozialpartner und d...</td>\n      <td>2019-07-15</td>\n      <td>NaN</td>\n    </tr>\n    <tr>\n      <th>35895</th>\n      <td>23209865</td>\n      <td>«Die Reputation der Credit Suisse hat gelitten»</td>\n      <td>946</td>\n      <td>4153</td>\n      <td>Die Bespitzelungsaffäre bei der Credit Suisse ...</td>\n      <td>2019-10-01</td>\n      <td>NaN</td>\n    </tr>\n    <tr>\n      <th>35896</th>\n      <td>22187065</td>\n      <td>Das Schweigen der Männer</td>\n      <td>950</td>\n      <td>7752</td>\n      <td>Dass sich das kleine Gartenhag-Zeichen mit de...</td>\n      <td>2018-10-06</td>\n      <td>NaN</td>\n    </tr>\n  </tbody>\n</table>\n<p>35897 rows × 7 columns</p>\n</div>"
     },
     "execution_count": 15,
     "metadata": {},
     "output_type": "execute_result"
    }
   ],
   "source": [
    "data"
   ],
   "metadata": {
    "collapsed": false
   }
  }
 ],
 "metadata": {
  "kernelspec": {
   "display_name": "Python 3 (ipykernel)",
   "language": "python",
   "name": "python3"
  },
  "language_info": {
   "codemirror_mode": {
    "name": "ipython",
    "version": 3
   },
   "file_extension": ".py",
   "mimetype": "text/x-python",
   "name": "python",
   "nbconvert_exporter": "python",
   "pygments_lexer": "ipython3",
   "version": "3.9.15"
  }
 },
 "nbformat": 4,
 "nbformat_minor": 5
}
