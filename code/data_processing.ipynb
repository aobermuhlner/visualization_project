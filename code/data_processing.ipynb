{
 "cells": [
  {
   "cell_type": "code",
   "execution_count": 85,
   "outputs": [],
   "source": [
    "import pandas as pd\n",
    "import wordPreprocessing as wpp\n",
    "import countryExtractor as ce\n",
    "import time\n",
    "import sentimentAnalyser as sa"
   ],
   "metadata": {
    "collapsed": false
   }
  },
  {
   "cell_type": "code",
   "execution_count": 77,
   "outputs": [],
   "source": [
    "data = pd.read_csv('../data/new_data_vdss.tsv.xz', sep='\\t', compression='xz')"
   ],
   "metadata": {
    "collapsed": false
   }
  },
  {
   "cell_type": "code",
   "execution_count": 78,
   "outputs": [],
   "source": [
    "# Datum bereinigen & redundante Spalten löschen\n",
    "data['datum'] = data['pubtime'].str.extract(r'(\\d{4}-\\d{2}-\\d{2})')\n",
    "data['datum'] = pd.to_datetime(data['datum'])\n",
    "del data['pubtime']\n",
    "del data['medium_code']\n",
    "del data['regional']\n",
    "del data['doctype']\n",
    "del data['language']\n",
    "del data['char_count']\n",
    "del data['dateline']\n",
    "del data['subhead']\n",
    "del data['content_id']"
   ],
   "metadata": {
    "collapsed": false
   }
  },
  {
   "cell_type": "code",
   "execution_count": 84,
   "outputs": [
    {
     "data": {
      "text/plain": "              id     medium_name              rubric   \n0       47612274        blick.ch          Wirtschaft  \\\n1       46153316          srf.ch  Sport - Mehr Sport   \n2       45099545    swissinfo.ch          Gesundheit   \n3       47381556  NZZ am Sonntag  Mensch und Medizin   \n4       47256809          srf.ch         Radio SRF 1   \n...          ...             ...                 ...   \n153195  48273157  Berner Zeitung              Region   \n153196  45361730      20 minuten   St. Gallen/Region   \n153197  45122731        blick.ch             Politik   \n153198  45429217  NZZ am Sonntag             Schweiz   \n153199  46091106        blick.ch              People   \n\n              doctype_description   \n0                   Online medium  \\\n1                   Online medium   \n2                   Online medium   \n3       Regional weekly newspaper   \n4                   Online medium   \n...                           ...   \n153195   Regional daily newspaper   \n153196   Regional daily newspaper   \n153197              Online medium   \n153198  Regional weekly newspaper   \n153199              Online medium   \n\n                                                     head   \n0            Schweden beschliesst starke Leitzinserhöhung  \\\n1       Handball-Nati: Schweizerinnen unterliegen Pole...   \n2       \"Wir befürchten, dass die Tabakinitiative die ...   \n3                                                    News   \n4                      Wenn Wassersportler fliegen lernen   \n...                                                   ...   \n153195     Warum Opfer von Online-Hetze oft machtlos sind   \n153196                         Bürocontainer in Vollbrand   \n153197           Bundespräsident Cassis zu Besuch in Wien   \n153198                                   Classe politique   \n153199  Mats Hummels feiert Ostern mit Cathy und Sohn ...   \n\n                                                  content      datum  \n0       <tx><ld><p>Die schwedische Notenbank stemmt si... 2022-09-20  \n1       <tx><ld><p>Die Schweizer Handball-Nati der Fra... 2022-04-24  \n2       <tx><ld><p>Wirtschaftskreise wehren sich gegen... 2022-01-11  \n3       <tx><zt>Medizincannabis und Nikotin gehen Hand... 2022-08-28  \n4       <tx><ld><p>Man sieht sie bald auf jedem Schwei... 2022-08-15  \n...                                                   ...        ...  \n153195  <tx><ld><p>Am Internet-Pranger Ein linksradika... 2022-11-24  \n153196  <tx><p>ARBON. Aus noch unbekannten Gründen bra... 2022-02-07  \n153197  <tx><ld><p>Die nächsten Schritte der Schweiz i... 2022-01-13  \n153198  <tx><p>Ignazio Cassis, Globetrotter, twitterte... 2022-02-13  \n153199  <tx><ld><p>Nach Mats Hummels Dating-Chaos in d... 2022-04-18  \n\n[153200 rows x 7 columns]",
      "text/html": "<div>\n<style scoped>\n    .dataframe tbody tr th:only-of-type {\n        vertical-align: middle;\n    }\n\n    .dataframe tbody tr th {\n        vertical-align: top;\n    }\n\n    .dataframe thead th {\n        text-align: right;\n    }\n</style>\n<table border=\"1\" class=\"dataframe\">\n  <thead>\n    <tr style=\"text-align: right;\">\n      <th></th>\n      <th>id</th>\n      <th>medium_name</th>\n      <th>rubric</th>\n      <th>doctype_description</th>\n      <th>head</th>\n      <th>content</th>\n      <th>datum</th>\n    </tr>\n  </thead>\n  <tbody>\n    <tr>\n      <th>0</th>\n      <td>47612274</td>\n      <td>blick.ch</td>\n      <td>Wirtschaft</td>\n      <td>Online medium</td>\n      <td>Schweden beschliesst starke Leitzinserhöhung</td>\n      <td>&lt;tx&gt;&lt;ld&gt;&lt;p&gt;Die schwedische Notenbank stemmt si...</td>\n      <td>2022-09-20</td>\n    </tr>\n    <tr>\n      <th>1</th>\n      <td>46153316</td>\n      <td>srf.ch</td>\n      <td>Sport - Mehr Sport</td>\n      <td>Online medium</td>\n      <td>Handball-Nati: Schweizerinnen unterliegen Pole...</td>\n      <td>&lt;tx&gt;&lt;ld&gt;&lt;p&gt;Die Schweizer Handball-Nati der Fra...</td>\n      <td>2022-04-24</td>\n    </tr>\n    <tr>\n      <th>2</th>\n      <td>45099545</td>\n      <td>swissinfo.ch</td>\n      <td>Gesundheit</td>\n      <td>Online medium</td>\n      <td>\"Wir befürchten, dass die Tabakinitiative die ...</td>\n      <td>&lt;tx&gt;&lt;ld&gt;&lt;p&gt;Wirtschaftskreise wehren sich gegen...</td>\n      <td>2022-01-11</td>\n    </tr>\n    <tr>\n      <th>3</th>\n      <td>47381556</td>\n      <td>NZZ am Sonntag</td>\n      <td>Mensch und Medizin</td>\n      <td>Regional weekly newspaper</td>\n      <td>News</td>\n      <td>&lt;tx&gt;&lt;zt&gt;Medizincannabis und Nikotin gehen Hand...</td>\n      <td>2022-08-28</td>\n    </tr>\n    <tr>\n      <th>4</th>\n      <td>47256809</td>\n      <td>srf.ch</td>\n      <td>Radio SRF 1</td>\n      <td>Online medium</td>\n      <td>Wenn Wassersportler fliegen lernen</td>\n      <td>&lt;tx&gt;&lt;ld&gt;&lt;p&gt;Man sieht sie bald auf jedem Schwei...</td>\n      <td>2022-08-15</td>\n    </tr>\n    <tr>\n      <th>...</th>\n      <td>...</td>\n      <td>...</td>\n      <td>...</td>\n      <td>...</td>\n      <td>...</td>\n      <td>...</td>\n      <td>...</td>\n    </tr>\n    <tr>\n      <th>153195</th>\n      <td>48273157</td>\n      <td>Berner Zeitung</td>\n      <td>Region</td>\n      <td>Regional daily newspaper</td>\n      <td>Warum Opfer von Online-Hetze oft machtlos sind</td>\n      <td>&lt;tx&gt;&lt;ld&gt;&lt;p&gt;Am Internet-Pranger Ein linksradika...</td>\n      <td>2022-11-24</td>\n    </tr>\n    <tr>\n      <th>153196</th>\n      <td>45361730</td>\n      <td>20 minuten</td>\n      <td>St. Gallen/Region</td>\n      <td>Regional daily newspaper</td>\n      <td>Bürocontainer in Vollbrand</td>\n      <td>&lt;tx&gt;&lt;p&gt;ARBON. Aus noch unbekannten Gründen bra...</td>\n      <td>2022-02-07</td>\n    </tr>\n    <tr>\n      <th>153197</th>\n      <td>45122731</td>\n      <td>blick.ch</td>\n      <td>Politik</td>\n      <td>Online medium</td>\n      <td>Bundespräsident Cassis zu Besuch in Wien</td>\n      <td>&lt;tx&gt;&lt;ld&gt;&lt;p&gt;Die nächsten Schritte der Schweiz i...</td>\n      <td>2022-01-13</td>\n    </tr>\n    <tr>\n      <th>153198</th>\n      <td>45429217</td>\n      <td>NZZ am Sonntag</td>\n      <td>Schweiz</td>\n      <td>Regional weekly newspaper</td>\n      <td>Classe politique</td>\n      <td>&lt;tx&gt;&lt;p&gt;Ignazio Cassis, Globetrotter, twitterte...</td>\n      <td>2022-02-13</td>\n    </tr>\n    <tr>\n      <th>153199</th>\n      <td>46091106</td>\n      <td>blick.ch</td>\n      <td>People</td>\n      <td>Online medium</td>\n      <td>Mats Hummels feiert Ostern mit Cathy und Sohn ...</td>\n      <td>&lt;tx&gt;&lt;ld&gt;&lt;p&gt;Nach Mats Hummels Dating-Chaos in d...</td>\n      <td>2022-04-18</td>\n    </tr>\n  </tbody>\n</table>\n<p>153200 rows × 7 columns</p>\n</div>"
     },
     "execution_count": 84,
     "metadata": {},
     "output_type": "execute_result"
    }
   ],
   "source": [
    "data"
   ],
   "metadata": {
    "collapsed": false
   }
  },
  {
   "cell_type": "code",
   "execution_count": 83,
   "outputs": [
    {
     "data": {
      "text/plain": "array(['Wirtschaft', 'Sport - Mehr Sport', 'Gesundheit',\n       'Mensch und Medizin', 'Radio SRF 1', 'News - International',\n       'Region', 'Ausland', 'News - Schweiz', 'Meinungen', 'Sport',\n       'Zürich', 'St. Gallen/Region', 'Leben', 'People',\n       'Zürich und Region', 'News', 'International', 'Wochenende',\n       'Debatte', 'Wetter', 'Meinung und Debatte', 'Schweiz', 'Mobil',\n       'Feuilleton', 'News - Gesellschaft', 'Sport - Fussball',\n       'Letzte Seite', 'Panorama', 'Front', 'Services', 'Invest',\n       'Sport - Eishockey', 'SonntagsBlick', 'Basel/Region', 'Forum',\n       'Krieg in der Ukraine', 'Meteo - Meteo-Stories', 'Video',\n       'Luzern/Region', 'Kehrseite', 'Coopzeitung Weekend',\n       'Computer und Technik', 'WM 2022', 'Bern/Region', 'Sport - Tennis',\n       'Politik', 'Pro Global', 'Sport - Leichtathletik', 'Magazin',\n       'Kultur & Gesellschaft', 'Kultur - Film & Serien', 'Konflikte',\n       'Influencer Radar', 'Forschung und Technik',\n       'News - Abstimmungen 27. November', 'Community', 'Zürich/Region',\n       'Wissen', 'News - Panorama', 'Axpo-Deal', 'News - Wirtschaft',\n       'Kultur', nan, 'Sport - Ski Alpin', 'Hintergrund', 'Gesellschaft',\n       'News - Abstimmungen 13. Februar 2022', 'Ukraine-Krieg',\n       'Lifestyle', 'Sport - Beijing 2022',\n       'News - Abstimmungen 15. Mai 2022',\n       'Kultur - Gesellschaft & Religion', 'Radio SRF 3',\n       'Sport - Allgemein', 'Good News', 'Outdoor', 'Sport - Motorsport',\n       'Art Basel', 'Bildungsspecial', 'Meinung', 'Radio SRF 1 - Mundart',\n       'Literatur und Kunst', 'Beilage', 'Firmen & Finanzen',\n       'Grüner Bund 2050', 'Peking 2022', 'Wissen - Mensch',\n       'Wissen - Technik', 'New Articles', 'Special',\n       'Sendungen - Kassensturz Espresso', 'INTERVIEW • MILKY DIAMOND',\n       'Kultur - Literatur', 'News - Ratgeber', 'Mobilität', 'Kino',\n       'Wettbewerbe', 'Medien', 'Kultur - Bühne', 'Aussenpolitik',\n       'Wissen - Natur & Tiere', 'Wissen - Gesundheit', 'Kulinarik',\n       'Wissenschaft', 'Wissen - Weltraum', 'Wissen - Wissens-Chats',\n       'Kultur - Kunst', 'Streaming', 'Credit Suisse', 'Kriminalität',\n       '«Tag der guten Tat»', 'Das läuft', 'Reisen', 'Seite Drei',\n       'Wissen - Nachhaltigkeit', 'Künstliche Intelligenz',\n       'Geld & Recht', 'Sendungen - Hallo SRF!', 'Arbeit', 'LIFESTYLE',\n       'FONDATION BARRY DU GRAND-ST-BERNARD • BRANDREPORT',\n       'Coopzeit Weekend', 'BEAUTY', 'RECHT', 'Audio & Podcasts',\n       'Lucerne Festival', 'Digital', 'Wissen - Mobilität', 'Im Bild',\n       'Radio SRF Virus - Cypher', 'XMAS', 'HAVE YOURSELF A MERRY XMAS',\n       'Wahl in den Sicherheitsrat', '20 minuten', 'Home',\n       'Direkte Demokratie', 'Equal Voice', 'Peking 20', 'Prämienanstieg',\n       'Krankenkassen', 'Green', 'Radio SRF 3 - Musik', 'WINTER-SPECIAL',\n       'Wissen - Corona', 'Oligarchen in der Schweiz', 'CS-Datenleck',\n       'Nach dem Tod der Queen', 'Kultur - Musik',\n       'INTERVIEW • L LOKO X DRINI', 'Der Rücktritt', 'Blick-Tipps',\n       'Geldanlage', 'Sendungen - 1 gegen 100', 'Coronavirus',\n       'Wissen - Klimaerwärmung', 'ZSC LIONS-SPECIAL', 'NZZ Live',\n       'Proteste in China', 'Olympia', 'Garten', 'Berner Wahlen 2022',\n       'LÖTSCHENTAL MARKETING AG • BRANDREPORT', 'Pornosucht', 'MERRY',\n       'Staatsbegräbnis der Queen', 'Freizeit', 'Umwelt',\n       'Radio SRF 3 - Festivalsommer',\n       'News - Abstimmungen 25. September 22', 'Wissen - Puls kompakt',\n       'SOMMER-SPECIAL', 'Simonetta Sommarugas Rücktritt', 'Bildung',\n       'Luzern/Regio', 'Und jetzt?', 'Chemsex', 'News-Scout des Monats',\n       'MOBILEON DEMAND',\n       'WISS SCHULEN FÜR WIRTSCHAFT INFORMATIK IMMOBILIEN AG • BRANDREPORT',\n       'Ausbeutung', 'BRANDREPORT • EIT.SWISS', 'Ukraine-Krise',\n       'Reportage aus Beirut', 'Energiekrise', 'Religion',\n       'BRANDREPORT • SWISSMECHANIC',\n       'Sendungen - Gesichter & Geschichten', 'Italien', 'YOURSELF',\n       'Sendungen - Samschtig-Jass', 'Comunnity', 'FASHION',\n       'Sendungen - Unterhaltung', 'Auto & Mobilität', 'Latest News',\n       'Specials', 'Radio SRF 1 - Kochen', 'ZSC LIONS - SPECIAL',\n       'Sendungen - Dok', 'Jubiläum der Queen',\n       'BRANDREPORT • IMMOBILIEN BÖRSE AG', 'Nagra-Entscheid',\n       'Gesperrter Luftraum', 'Unterhaltung', 'Brand Studio',\n       'BRANDREPORT • APM RADLOFF BERUFSVERBAND DER APM THERAPEUTENN',\n       'BRANDREPORT • LIECHTENSTEIN', 'Kids - Eltern',\n       'Queen Elizabeth II', 'Krise in der Ukraine',\n       'Schweizer Neutralität', 'Bundesrat', 'Fornt', 'Kids',\n       'Samstagsgespräch', 'News-Scout', 'SELMA FINANCE AG • BRANDREPORT',\n       'Online-Spiele', 'HAVE', 'Standortentscheid der Nagra',\n       'Wahl in Brasilien', 'Roger Federer tritt zurück', 'MIR SIND ZÜRI',\n       'World Nature Photography Awards', 'Bundesrat in der Krise',\n       'Die Übernahme', 'Kultur - Games',\n       'BRANDREPORT • ESL SPRACHAUFENTHALTE', 'Djokovic in Australien',\n       'Zinserhöhung', 'Lugano-Konferenz', 'A', 'Ölembargo',\n       'AFP PICTURES OF THE YEAR', 'Blick TV', 'Nach dem Rücktritt',\n       'Ukraine-Konflikt', 'MOTOREX AG • BRANDREPORT', 'Sonniger Februar',\n       'INTERVIEW • MATHILDE GREMAUD',\n       'GRAND RESORT BAD RAGAZ • BRANDREPORT',\n       'BILDXZUG - LEHRE IM VERBUND • BRANDREPORT', 'front',\n       'BRANDREPORT • HAIR AND SKINMEDICAL AG',\n       'Multinationale Unternehmen',\n       'BRANDREPORT • SCHULE FÜR GESTALTUNG AARGAU',\n       'Sommaruga-Nachfolge', 'UNIVERSITÄT BASEL • BRANDREPORT',\n       'HAIR AND SKIN MEDICAL AG • BRANDREPORT', 'PEAX AG • BRANDREPORT',\n       'Amoklauf in Uvalde', 'BRANDREPORT • MOULINEX',\n       'BRANDREPORT • YAKULT', 'GESUNDER SCHLAF',\n       'Ueli Maurers Rücktritt', 'Kehrseit', 'Wahlen in Frankreich',\n       'Podcasts', 'INTERVIEW • THISPRONTO', 'WM 2022/Sport',\n       'Zürich/Regio', 'Trockenheit', 'ARTECURA • BRANDREPORT',\n       'Swissinfo.ch', 'Vincenz-Prozess', 'Pandemie', 'AHV-Vorlage',\n       'KOJ INSTITUT FÜR GEHÖRTHERAPIE AG • BRANDREPORT', 'Liz Truss',\n       'Sendungen - SRF bi de Lüt', 'Radio SRF Musikwelle',\n       'Bundesratswahl', 'NEWS', 'SUNRISE GMBH • BRANDREPORT',\n       'KREUZWORTRÄTSEL', 'MIR SIND ZÜRI.',\n       'BRANDREPORT • CARCOM ELECTRONICS AG',\n       'POWERMEALS SA • BRANDREPORT', 'Bundesratswahlen', '20 minute',\n       'VIDEO-CHALLENGE', 'Taiwan-Krise', 'Katastrophen',\n       'INTERVIEW • AMY BASERGA', 'BRANDREPORT • BRAUEREI LOCHER AG',\n       'Häusliche Gewalt', 'INTERVIEW• LUKAS BETSCHART',\n       'INTERVIEW• AVI SCHIFFMANN', 'Sendungen - Hörspiel',\n       'Lieblingskonzert', 'Stephan Künzi',\n       'BRANDREPORT • CARROSSERIE SUISSE', 'Do You Remember Me?',\n       'Vermischtes', 'EDITORIAL', 'Welt der Tiere',\n       'BRANDREPORT •MCDONALD’S SCHWEIZ', 'GANZ SCHÖN FIT', 'REISEN',\n       'Abstimmungen', 'BODY&SOUL LIVING', 'Führungswechsel',\n       'KNOWS • BRANDREPORT', 'Die Köpfe hinter der Zeitung',\n       'BRANDREPORT • KV BILDUNGSGRUPPE SCHWEIZ', 'Photoschweiz',\n       'MEDIA MARKT SCHWEIZ AG • BRANDREPORT', 'Wahlen in Italien',\n       'Swiss Press Award', 'News-Scouts', 'Roger Federers Rücktritt',\n       'Federer-Rücktritt', 'INTERVIEW• STRESS',\n       'GASTBEITRAG • RESPECT YOURSELF',\n       'BRANDREPORT • SÄNTIS-SCHWEBEBAHN AG', 'Xi Jinping', 'Wahlumfrage',\n       'PLUME HOMEPASS • BRANDREPORT', 'Credit Suisse in der Krise',\n       'WEIGHTWATCHERS • BRANDREPORT', 'Krisenmanagement Schweiz',\n       'BRANDREPORT • SCHWEIZERISCHER BAUMEISTERVERBAND', 'FOLSÄURE',\n       'SCHWEIZERISCHER BAUMEISTERVERBAND • BRANDREPORT', 'Beschneidung',\n       'Coopzeitung Weekennd', 'INTERVIEW • ALYSSA CARSON', 'Midterms',\n       'Radio SRF 2 Kultur', 'YAMAHA MUSIC EUROPE GMBH • BRANDREPORT',\n       'Medienpaket', 'INTERVIEW',\n       'SCHWEIZERISCHE TECHNISCHE FACHSCHULE WINTERTHUR • BRANDREPORT',\n       'BRANDREPORT • BOUMAG',\n       'VERBAND SCHWEIZERISCHER SCHREINERMEISTER UND MÖBELFABRIKANTEN VSSM • BRANDREPORT',\n       'Radio SRF 1 - Trick 77',\n       'MAAS GLOBAL SWITZERLAND GMBH • BRANDREPORT',\n       'SMGV SCHWEIZERISCHER MALER- UND GIPSERUNTERNEHMER-VERBAND • BRANDREPORT',\n       'Zürcher Superwahltag 27. März', 'RICHTIG ATMEN', 'Priorin',\n       'BRANDREPORT • ICT-BERUFSBILDUNG SCHWEIZ', 'BLAULICHT',\n       'BILDUNG Das 20 Minuten Bildungsspecial',\n       'SCHWEIZERISCHER BLINDENBUND • BRANDREPORT',\n       'ACADEMIC GATEWAY • BRANDREPORT', 'INTERVIEW•MATTHIAS GLARNER',\n       'SCHWEIZER FLEISCH-FACHVERBAND SFF • BRANDREPORT',\n       'Auslandschweiz aktuell', 'PRODUKTIONSSTANDORT SCHWEIZ',\n       'News - Club-Chats', 'Schwingen', 'GESUNDHEIT', 'SEXUALITÄT',\n       'FRAUENGESUNDHEIT', 'MISANTO • BRANDREPORT',\n       'Coopzeitung Weekend Special', 'Leserbriefe',\n       'FAIRPHONE • BRANDREPORT', 'BRANDREPORT • MELISANA AG',\n       'BRANDREPORT • VORN',\n       'TOPPHARM APOTHEKEN UND DROGERIE GENOSSENSCHAFT • BRANDREPORT',\n       'Leser-Videos', 'Ihre «Tages-Anzeiger»-Redaktion',\n       'INTERVIEW • KRIS8AN', 'BRENNEREI SCHWAB • BRANDREPORT',\n       'SWISS WINE PROMOTION AG • BRANDREPORT', 'Peking 2022Peking 2022',\n       'Coopzitung Weekend', 'GOBA AG • BRANDREPORT',\n       'BERUFEHOTELGASTRO.CH • BRANDREPORT',\n       'BRANDREPORT • DR. BÄHLER DROPA',\n       'Sendungen - SRF bi de Lüt - Live', 'REPAIRABILITY', 'Fronr',\n       'Coopzeitung Weeken', 'BRANDREPORT • TOPPHARMGENOSSENSCHAFT',\n       'Nach der Pandemie', 'EDITORIAL • JAKUB SAMOCHOWIEC',\n       'STADLER • BRANDREPORT', 'SPONSORED • SCHWEIZER KARTE', 'TIERWELT',\n       'BRENNEREI', 'LIFESTYLE AUTO&MOBILITÄT SPECIAL',\n       'RUGENBRÄU AG • BRANDREPORT', 'Radio SRF Musikwelle - Musik',\n       'GASTARTIKEL • MENTALE GESUNDHEIT',\n       'LIDL SCHWEIZ AG • BRANDREPORT', 'CYBERGROOMING',\n       'BRANDREPORT • AUTO GEWERBE VERBAND SCHWEIZ (AGVS)',\n       'Radio SRF Musikwelle - Lebensgeschichte', 'GEWINNSPIEL',\n       'ZB. ZENTRUMBILDUNG • BRANDREPORT', 'HAUTGESUNDHEIT',\n       'BRANDREPORT • ENESPA AG',\n       'BRANDREPORT • PÄDAGOGISCHE HOCHSCHULE SCHWYZ',\n       'BRANDREPORT • PERFECTYOU', 'Fasnacht', 'SMARTER MEDICINE',\n       'DEAN SCHNEIDER • INTERVIEW',\n       'BRANDREPORT • ZHAW ZÜRCHER HOCHSCHULE FÜR ANGEWANDTE WISSENSCHAFTEN',\n       'VALIANT BANK AG • BRANDREPORT', 'GAMIFICATION',\n       'DR.WILD & CO. AG • BRANDREPORT', 'EAT & DRINK',\n       'VEEPEE • BRANDREPORT', 'INTERVIEW•MERHAWI REDAE',\n       'CARAN D’ACHE SA • BRANDREPORT',\n       'BRANDREPORT • WHY! OPEN COMPUTING SA', 'THE DIGITAL SELF',\n       'Krieg in der Ukraine Krieg in der Ukraine',\n       'BRANDREPORT • ACADEMIC GATEWAY'], dtype=object)"
     },
     "execution_count": 83,
     "metadata": {},
     "output_type": "execute_result"
    }
   ],
   "source": [
    "# Aufbereitung der blick.ch Rubriken\n",
    "data.loc[data['medium_name'] == 'blick.ch', 'rubric'] = data.loc[data['medium_name'] == 'blick.ch', 'rubric'].str.split(' - ').str[0]\n",
    "filtered_data = data[data['medium_name'] == 'blick.ch']['rubric']\n",
    "data['rubric'].unique()"
   ],
   "metadata": {
    "collapsed": false
   }
  },
  {
   "cell_type": "code",
   "execution_count": 22,
   "outputs": [
    {
     "name": "stdout",
     "output_type": "stream",
     "text": [
      ".\n",
      ".\n",
      ".\n",
      ".\n",
      ".\n",
      ".\n",
      ".\n",
      ".\n",
      ".\n",
      ".\n",
      ".\n",
      ".\n",
      ".\n",
      ".\n",
      ".\n",
      ".\n",
      ".\n",
      ".\n",
      ".\n",
      ".\n",
      ".\n",
      ".\n",
      ".\n",
      ".\n",
      ".\n",
      ".\n",
      ".\n",
      ".\n",
      ".\n",
      ".\n",
      ".\n",
      ".\n",
      ".\n",
      ".\n",
      ".\n",
      ".\n",
      ".\n",
      ".\n",
      ".\n",
      ".\n",
      ".\n",
      ".\n",
      ".\n",
      ".\n",
      ".\n",
      ".\n",
      ".\n",
      ".\n",
      ".\n",
      ".\n",
      ".\n",
      ".\n",
      ".\n",
      ".\n",
      ".\n",
      ".\n",
      ".\n",
      ".\n",
      ".\n",
      ".\n",
      ".\n",
      ".\n",
      ".\n",
      ".\n",
      ".\n",
      ".\n",
      ".\n",
      ".\n",
      ".\n",
      ".\n",
      ".\n",
      ".\n",
      ".\n",
      ".\n",
      ".\n",
      ".\n",
      ".\n",
      ".\n",
      ".\n",
      ".\n",
      ".\n",
      ".\n",
      ".\n",
      ".\n",
      ".\n",
      ".\n",
      ".\n",
      ".\n",
      ".\n",
      ".\n",
      ".\n",
      ".\n",
      ".\n",
      ".\n",
      ".\n",
      ".\n",
      ".\n",
      ".\n",
      ".\n",
      ".\n",
      ".\n",
      ".\n",
      ".\n",
      ".\n",
      ".\n",
      ".\n",
      ".\n",
      ".\n",
      ".\n",
      ".\n",
      ".\n",
      ".\n",
      ".\n",
      ".\n",
      ".\n",
      ".\n",
      ".\n",
      ".\n",
      ".\n",
      ".\n",
      ".\n",
      ".\n",
      ".\n",
      ".\n",
      ".\n",
      ".\n",
      ".\n",
      ".\n",
      ".\n",
      ".\n",
      ".\n",
      ".\n",
      ".\n",
      ".\n",
      ".\n",
      ".\n",
      ".\n",
      ".\n",
      ".\n",
      ".\n",
      ".\n",
      ".\n",
      ".\n",
      ".\n",
      ".\n",
      ".\n",
      ".\n",
      ".\n",
      ".\n",
      ".\n",
      ".\n",
      ".\n",
      ".\n",
      ".\n",
      ".\n",
      ".\n",
      ".\n",
      ".\n",
      ".\n",
      ".\n",
      ".\n",
      ".\n",
      ".\n",
      ".\n",
      ".\n",
      ".\n",
      ".\n",
      ".\n",
      ".\n",
      ".\n",
      ".\n",
      ".\n",
      ".\n",
      ".\n",
      ".\n",
      ".\n",
      ".\n",
      ".\n",
      ".\n",
      ".\n",
      ".\n",
      ".\n",
      ".\n",
      ".\n",
      ".\n",
      ".\n",
      ".\n",
      ".\n",
      ".\n",
      ".\n",
      ".\n",
      ".\n",
      ".\n",
      ".\n",
      ".\n",
      ".\n",
      ".\n",
      ".\n",
      ".\n",
      "Elapsed Time: 57.64 seconds\n"
     ]
    }
   ],
   "source": [
    "# Headlines aufbereiten mit Klasse word_preprocessing\n",
    "\n",
    "preprocessor = wpp.headlinePreprocessing()\n",
    "\n",
    "start_time = time.time()\n",
    "data['content_processed'] = data['content'][:200].apply(lambda x: preprocessor.preprocess_text(x) if isinstance(x, str) else [])\n",
    "end_time = time.time()\n",
    "\n",
    "elapsed_time = end_time - start_time\n",
    "\n",
    "del data['content']\n",
    "\n",
    "print(\"Elapsed Time: {:.2f} seconds\".format(elapsed_time))"
   ],
   "metadata": {
    "collapsed": false
   }
  },
  {
   "cell_type": "code",
   "execution_count": 21,
   "outputs": [
    {
     "name": "stdout",
     "output_type": "stream",
     "text": [
      "Unexpected exception formatting exception. Falling back to standard exception\n"
     ]
    },
    {
     "name": "stderr",
     "output_type": "stream",
     "text": [
      "Traceback (most recent call last):\n",
      "  File \"C:\\Users\\linus\\anaconda3\\lib\\site-packages\\IPython\\core\\interactiveshell.py\", line 3398, in run_code\n",
      "    exec(code_obj, self.user_global_ns, self.user_ns)\n",
      "  File \"C:\\Users\\linus\\AppData\\Local\\Temp\\ipykernel_18232\\1111091668.py\", line 3, in <cell line: 3>\n",
      "    data['laender'] = data['content'].apply(lambda x: extractor.get_country(x) if isinstance(x, str) else [])\n",
      "  File \"C:\\Users\\linus\\anaconda3\\lib\\site-packages\\pandas\\core\\series.py\", line 4631, in apply\n",
      "    return SeriesApply(self, func, convert_dtype, args, kwargs).apply()\n",
      "  File \"C:\\Users\\linus\\anaconda3\\lib\\site-packages\\pandas\\core\\apply.py\", line 1025, in apply\n",
      "    return self.apply_standard()\n",
      "  File \"C:\\Users\\linus\\anaconda3\\lib\\site-packages\\pandas\\core\\apply.py\", line 1076, in apply_standard\n",
      "    mapped = lib.map_infer(\n",
      "  File \"pandas\\_libs\\lib.pyx\", line 2834, in pandas._libs.lib.map_infer\n",
      "  File \"C:\\Users\\linus\\AppData\\Local\\Temp\\ipykernel_18232\\1111091668.py\", line 3, in <lambda>\n",
      "    data['laender'] = data['content'].apply(lambda x: extractor.get_country(x) if isinstance(x, str) else [])\n",
      "  File \"C:\\Users\\linus\\OneDrive\\BSc_Data_Science\\Semester_2\\Data_Visualisation\\visualization_project\\code\\countryExtractor.py\", line 23, in get_country\n",
      "KeyboardInterrupt\n",
      "\n",
      "During handling of the above exception, another exception occurred:\n",
      "\n",
      "Traceback (most recent call last):\n",
      "  File \"C:\\Users\\linus\\anaconda3\\lib\\site-packages\\IPython\\core\\interactiveshell.py\", line 1993, in showtraceback\n",
      "    stb = self.InteractiveTB.structured_traceback(\n",
      "  File \"C:\\Users\\linus\\anaconda3\\lib\\site-packages\\IPython\\core\\ultratb.py\", line 1118, in structured_traceback\n",
      "    return FormattedTB.structured_traceback(\n",
      "  File \"C:\\Users\\linus\\anaconda3\\lib\\site-packages\\IPython\\core\\ultratb.py\", line 1012, in structured_traceback\n",
      "    return VerboseTB.structured_traceback(\n",
      "  File \"C:\\Users\\linus\\anaconda3\\lib\\site-packages\\IPython\\core\\ultratb.py\", line 865, in structured_traceback\n",
      "    formatted_exception = self.format_exception_as_a_whole(etype, evalue, etb, number_of_lines_of_context,\n",
      "  File \"C:\\Users\\linus\\anaconda3\\lib\\site-packages\\IPython\\core\\ultratb.py\", line 818, in format_exception_as_a_whole\n",
      "    frames.append(self.format_record(r))\n",
      "  File \"C:\\Users\\linus\\anaconda3\\lib\\site-packages\\IPython\\core\\ultratb.py\", line 736, in format_record\n",
      "    result += ''.join(_format_traceback_lines(frame_info.lines, Colors, self.has_colors, lvals))\n",
      "  File \"C:\\Users\\linus\\anaconda3\\lib\\site-packages\\stack_data\\utils.py\", line 145, in cached_property_wrapper\n",
      "    value = obj.__dict__[self.func.__name__] = self.func(obj)\n",
      "  File \"C:\\Users\\linus\\anaconda3\\lib\\site-packages\\stack_data\\core.py\", line 698, in lines\n",
      "    pieces = self.included_pieces\n",
      "  File \"C:\\Users\\linus\\anaconda3\\lib\\site-packages\\stack_data\\utils.py\", line 145, in cached_property_wrapper\n",
      "    value = obj.__dict__[self.func.__name__] = self.func(obj)\n",
      "  File \"C:\\Users\\linus\\anaconda3\\lib\\site-packages\\stack_data\\core.py\", line 649, in included_pieces\n",
      "    pos = scope_pieces.index(self.executing_piece)\n",
      "  File \"C:\\Users\\linus\\anaconda3\\lib\\site-packages\\stack_data\\utils.py\", line 145, in cached_property_wrapper\n",
      "    value = obj.__dict__[self.func.__name__] = self.func(obj)\n",
      "  File \"C:\\Users\\linus\\anaconda3\\lib\\site-packages\\stack_data\\core.py\", line 628, in executing_piece\n",
      "    return only(\n",
      "  File \"C:\\Users\\linus\\anaconda3\\lib\\site-packages\\executing\\executing.py\", line 164, in only\n",
      "    raise NotOneValueFound('Expected one value, found 0')\n",
      "executing.executing.NotOneValueFound: Expected one value, found 0\n"
     ]
    }
   ],
   "source": [
    "# Extraktion der Länder\n",
    "# testweise nur 100 erste Zeilen\n",
    "extractor = ce.countryExtractor()\n",
    "data['countries'] = data['content'].apply(lambda x: extractor.get_country(x) if isinstance(x, str) else [])"
   ],
   "metadata": {
    "collapsed": false
   }
  },
  {
   "cell_type": "code",
   "execution_count": 90,
   "outputs": [],
   "source": [
    "# Sentiment-Analyse\n",
    "# testweise nur 100 erste Zeilen\n",
    "sentiment_analyser = sa.sentimentAnalyser()\n",
    "data['Sentiment'] = data['content'][0:100].apply(lambda x: sentiment_analyser.get_topic_sentiments(x))"
   ],
   "metadata": {
    "collapsed": false
   }
  }
 ],
 "metadata": {
  "kernelspec": {
   "display_name": "Python 3 (ipykernel)",
   "language": "python",
   "name": "python3"
  },
  "language_info": {
   "codemirror_mode": {
    "name": "ipython",
    "version": 3
   },
   "file_extension": ".py",
   "mimetype": "text/x-python",
   "name": "python",
   "nbconvert_exporter": "python",
   "pygments_lexer": "ipython3",
   "version": "3.9.15"
  }
 },
 "nbformat": 4,
 "nbformat_minor": 5
}
