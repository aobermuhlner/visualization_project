{
 "cells": [
  {
   "cell_type": "code",
   "execution_count": 61,
   "outputs": [],
   "source": [
    "from importlib import reload\n",
    "import pandas as pd\n",
    "import time\n",
    "import TextPreprocessing as wpp\n",
    "import CountryExtractor as ce\n",
    "import SentimentAnalyser as sa\n",
    "import TopicCategorizer as tc\n",
    "import EntityAndSubjectExtractor as ese"
   ],
   "metadata": {
    "collapsed": false
   }
  },
  {
   "cell_type": "markdown",
   "source": [
    "Reading raw data"
   ],
   "metadata": {
    "collapsed": false
   }
  },
  {
   "cell_type": "code",
   "execution_count": 19,
   "outputs": [],
   "source": [
    "data = pd.read_csv('../data/new_data_vdss.tsv.xz', sep='\\t', compression='xz')"
   ],
   "metadata": {
    "collapsed": false
   }
  },
  {
   "cell_type": "code",
   "execution_count": 20,
   "outputs": [],
   "source": [
    "# Datum bereinigen & redundante Spalten löschen\n",
    "\n",
    "data['datum'] = data['pubtime'].str.extract(r'(\\d{4}-\\d{2}-\\d{2})')\n",
    "data['datum'] = pd.to_datetime(data['datum'])\n",
    "del data['pubtime']\n",
    "del data['medium_code']\n",
    "del data['regional']\n",
    "del data['doctype']\n",
    "del data['language']\n",
    "del data['char_count']\n",
    "del data['dateline']\n",
    "del data['subhead']\n",
    "del data['content_id']"
   ],
   "metadata": {
    "collapsed": false
   }
  },
  {
   "cell_type": "markdown",
   "source": [
    "Text preprocessing for content"
   ],
   "metadata": {
    "collapsed": false
   }
  },
  {
   "cell_type": "code",
   "execution_count": null,
   "outputs": [],
   "source": [
    "preprocessor = wpp.headlinePreprocessing()\n",
    "\n",
    "start_time = time.time()\n",
    "data['content_processed'] = data['content'].apply(lambda x: preprocessor.preprocess_text(x) if isinstance(x, str) else [])\n",
    "end_time = time.time()\n",
    "\n",
    "elapsed_time = end_time - start_time\n",
    "\n",
    "del data['content']\n",
    "\n",
    "print(\"Elapsed Time: {:.2f} seconds\".format(elapsed_time))"
   ],
   "metadata": {
    "collapsed": false,
    "pycharm": {
     "is_executing": true
    }
   }
  },
  {
   "cell_type": "markdown",
   "source": [
    "Country analysis with running time estimation"
   ],
   "metadata": {
    "collapsed": false
   }
  },
  {
   "cell_type": "code",
   "execution_count": 23,
   "outputs": [
    {
     "name": "stdout",
     "output_type": "stream",
     "text": [
      "68.1 µs ± 9.06 µs per loop (mean ± std. dev. of 7 runs, 10,000 loops each)\n"
     ]
    }
   ],
   "source": [
    "extractor = ce.CountryExtractor()\n",
    "%timeit extractor.get_country(data['content'][0])"
   ],
   "metadata": {
    "collapsed": false
   }
  },
  {
   "cell_type": "markdown",
   "source": [
    "68.1 µs ± 9.06 µs per loop (mean ± std. dev. of 7 runs, 10,000 loops each)"
   ],
   "metadata": {
    "collapsed": false
   }
  },
  {
   "cell_type": "code",
   "execution_count": null,
   "outputs": [],
   "source": [
    "# extraction of countries\n",
    "extractor = ce.CountryExtractor()\n",
    "data['countries'] = data['content_processed'].apply(lambda x: extractor.get_country(x) if isinstance(x[0], str) else [])"
   ],
   "metadata": {
    "collapsed": false,
    "pycharm": {
     "is_executing": true
    }
   }
  },
  {
   "cell_type": "markdown",
   "source": [
    "16.2 ms ± 1.17 ms per loop (mean ± std. dev. of 7 runs, 100 loops each)"
   ],
   "metadata": {
    "collapsed": false
   }
  },
  {
   "cell_type": "markdown",
   "source": [
    "Sentiment analysis with running time estimation"
   ],
   "metadata": {
    "collapsed": false
   }
  },
  {
   "cell_type": "code",
   "execution_count": 31,
   "outputs": [
    {
     "name": "stdout",
     "output_type": "stream",
     "text": [
      "65.9 ms ± 1.01 ms per loop (mean ± std. dev. of 7 runs, 10 loops each)\n"
     ]
    }
   ],
   "source": [
    "reload(sa)\n",
    "sentiment_analyser = sa.sentimentAnalyser()\n",
    "%timeit sentiment_analyser.get_topic_sentiments_polarity(data['content_processed'][0])"
   ],
   "metadata": {
    "collapsed": false
   }
  },
  {
   "cell_type": "markdown",
   "source": [
    "12.8 ms ± 1.17 ms per loop (mean ± std. dev. of 7 runs, 100 loops each)"
   ],
   "metadata": {
    "collapsed": false
   }
  },
  {
   "cell_type": "code",
   "execution_count": 33,
   "outputs": [
    {
     "name": "stdout",
     "output_type": "stream",
     "text": [
      "Elapsed Time: 7932.10 seconds\n"
     ]
    }
   ],
   "source": [
    "# Sentiment analysis\n",
    "\n",
    "sentiment_analyser = sa.sentimentAnalyser()\n",
    "\n",
    "start_time = time.time()\n",
    "data['Sentiment'] = data['content_processed'].apply(lambda x: sentiment_analyser.get_topic_sentiments_polarity(x))\n",
    "end_time = time.time()\n",
    "\n",
    "elapsed_time = end_time - start_time\n",
    "\n",
    "print(\"Elapsed Time: {:.2f} seconds\".format(elapsed_time))\n",
    "\n",
    "data.to_csv('../data/processed_data.tsv.xz', sep='\\t', index=False, compression='xz')"
   ],
   "metadata": {
    "collapsed": false
   }
  },
  {
   "cell_type": "markdown",
   "source": [
    "Elapsed Time: 7932.10 seconds"
   ],
   "metadata": {
    "collapsed": false
   }
  },
  {
   "cell_type": "markdown",
   "source": [
    "Subjectivity analysis with running time estimation"
   ],
   "metadata": {
    "collapsed": false
   }
  },
  {
   "cell_type": "code",
   "execution_count": 73,
   "outputs": [
    {
     "name": "stdout",
     "output_type": "stream",
     "text": [
      "16.4 ms ± 1.66 ms per loop (mean ± std. dev. of 7 runs, 100 loops each)\n"
     ]
    }
   ],
   "source": [
    "reload(sa)\n",
    "sentiment_analyser = sa.sentimentAnalyser()\n",
    "%timeit sentiment_analyser.get_topic_subjectivity(processed_data['content_processed'][0])"
   ],
   "metadata": {
    "collapsed": false
   }
  },
  {
   "cell_type": "markdown",
   "source": [
    "16.4 ms ± 1.66 ms per loop (mean ± std. dev. of 7 runs, 100 loops each)"
   ],
   "metadata": {
    "collapsed": false
   }
  },
  {
   "cell_type": "code",
   "execution_count": 75,
   "outputs": [
    {
     "name": "stdout",
     "output_type": "stream",
     "text": [
      "Elapsed Time: 9175.09 seconds\n"
     ]
    }
   ],
   "source": [
    "sentiment_analyser = sa.sentimentAnalyser()\n",
    "\n",
    "start_time = time.time()\n",
    "\n",
    "data['objectivity'] = data['content_processed'].apply(lambda x: sentiment_analyser.get_topic_subjectivity(x))\n",
    "\n",
    "end_time = time.time()\n",
    "\n",
    "elapsed_time = end_time - start_time\n",
    "\n",
    "print(\"Elapsed Time: {:.2f} seconds\".format(elapsed_time))\n",
    "\n",
    "data.to_csv('../data/processed_data2.tsv.xz', sep='\\t', index=False, compression='xz')"
   ],
   "metadata": {
    "collapsed": false
   }
  },
  {
   "cell_type": "markdown",
   "source": [
    "Elapsed Time: 9175.09 seconds"
   ],
   "metadata": {
    "collapsed": false
   }
  },
  {
   "cell_type": "markdown",
   "source": [
    "Text preprocessing 'rubric' and running time estimation"
   ],
   "metadata": {
    "collapsed": false
   }
  },
  {
   "cell_type": "code",
   "execution_count": 144,
   "outputs": [
    {
     "name": "stdout",
     "output_type": "stream",
     "text": [
      "330 µs ± 16.4 µs per loop (mean ± std. dev. of 7 runs, 1,000 loops each)\n"
     ]
    }
   ],
   "source": [
    "text_processing = wpp.TextPreprocessing()\n",
    "%timeit data['rubric'][:1].apply(lambda x: text_processing.preprocess_text(x.lower()))"
   ],
   "metadata": {
    "collapsed": false
   }
  },
  {
   "cell_type": "markdown",
   "source": [
    "330 µs ± 16.4 µs per loop (mean ± std. dev. of 7 runs, 1,000 loops each)"
   ],
   "metadata": {
    "collapsed": false
   }
  },
  {
   "cell_type": "code",
   "execution_count": 150,
   "outputs": [],
   "source": [
    "data['topic'] = data['rubric'].apply(lambda x: text_processing.preprocess_text(x.lower()) if isinstance(x, str) else [])"
   ],
   "metadata": {
    "collapsed": false
   }
  },
  {
   "cell_type": "markdown",
   "source": [
    "Import of processed data"
   ],
   "metadata": {
    "collapsed": false
   }
  },
  {
   "cell_type": "code",
   "execution_count": 114,
   "outputs": [
    {
     "name": "stdout",
     "output_type": "stream",
     "text": [
      "14.4 ms ± 1.39 ms per loop (mean ± std. dev. of 7 runs, 100 loops each)\n"
     ]
    }
   ],
   "source": [
    "reload(tc)\n",
    "categorizer = tc.TopicCategorizer()\n",
    "%timeit processed_data['content_processed'][:1].apply(lambda x: categorizer.categorize(x))"
   ],
   "metadata": {
    "collapsed": false
   }
  },
  {
   "cell_type": "markdown",
   "source": [
    "14 ms ± 899 µs per loop (mean ± std. dev. of 7 runs, 100 loops each)"
   ],
   "metadata": {
    "collapsed": false
   }
  },
  {
   "cell_type": "code",
   "execution_count": 38,
   "outputs": [],
   "source": [
    "processed_data = pd.read_csv('../data/processed_data3.tsv.xz', sep='\\t', compression='xz')"
   ],
   "metadata": {
    "collapsed": false
   }
  },
  {
   "cell_type": "code",
   "execution_count": 40,
   "outputs": [],
   "source": [
    "# eval converts string to list\n",
    "processed_data['content_processed'] = processed_data['content_processed'].apply(eval)"
   ],
   "metadata": {
    "collapsed": false
   }
  },
  {
   "cell_type": "code",
   "execution_count": 108,
   "outputs": [
    {
     "name": "stdout",
     "output_type": "stream",
     "text": [
      "Elapsed Time: 6759.97 seconds\n"
     ]
    }
   ],
   "source": [
    "categorizer = tc.TopicCategorizer()\n",
    "\n",
    "start_time = time.time()\n",
    "processed_data['category'] = processed_data['content_processed'].apply(lambda x: categorizer.categorize(x))\n",
    "end_time = time.time()\n",
    "\n",
    "elapsed_time = end_time - start_time\n",
    "\n",
    "print(\"Elapsed Time: {:.2f} seconds\".format(elapsed_time))\n",
    "\n",
    "processed_data.to_csv('../data/processed_data5.tsv.xz', sep='\\t', index=False, compression='xz')"
   ],
   "metadata": {
    "collapsed": false
   }
  },
  {
   "cell_type": "markdown",
   "source": [
    "Elapsed Time: 6759.97 seconds"
   ],
   "metadata": {
    "collapsed": false
   }
  },
  {
   "cell_type": "code",
   "execution_count": 113,
   "outputs": [
    {
     "name": "stdout",
     "output_type": "stream",
     "text": [
      "4.85 ms ± 291 µs per loop (mean ± std. dev. of 7 runs, 100 loops each)\n"
     ]
    }
   ],
   "source": [
    "reload(ese)\n",
    "entity_extractor = ese.EntityAndSubjectExtractor()\n",
    "%timeit processed_data['head'][:1].apply(lambda x: entity_extractor.extract_entities(x))"
   ],
   "metadata": {
    "collapsed": false
   }
  },
  {
   "cell_type": "code",
   "execution_count": 110,
   "outputs": [
    {
     "name": "stdout",
     "output_type": "stream",
     "text": [
      "Elapsed Time: 830.65 seconds\n"
     ]
    }
   ],
   "source": [
    "entity_extractor = ese.EntityAndSubjectExtractor()\n",
    "\n",
    "start_time = time.time()\n",
    "processed_data['entities'] = processed_data['head'].apply(lambda x: entity_extractor.extract_entities(x))\n",
    "end_time = time.time()\n",
    "\n",
    "elapsed_time = end_time - start_time\n",
    "\n",
    "print(\"Elapsed Time: {:.2f} seconds\".format(elapsed_time))\n",
    "\n",
    "processed_data.to_csv('../data/processed_data6.tsv.xz', sep='\\t', index=False, compression='xz')"
   ],
   "metadata": {
    "collapsed": false
   }
  },
  {
   "cell_type": "code",
   "execution_count": 93,
   "outputs": [
    {
     "data": {
      "text/plain": "0.075"
     },
     "execution_count": 93,
     "metadata": {},
     "output_type": "execute_result"
    }
   ],
   "source": [
    "max = processed_data['Sentiment'].groupby(processed_data['datum']).median().max()\n",
    "min = processed_data['Sentiment'].groupby(processed_data['datum']).median().min()\n",
    "processed_data['Sentiment'].groupby(processed_data['datum']).median().apply(lambda x: 2*(x - min)/(max - min) - 1).plot()"
   ],
   "metadata": {
    "collapsed": false
   }
  },
  {
   "cell_type": "code",
   "execution_count": 119,
   "outputs": [
    {
     "data": {
      "text/plain": "           medium_name                                               head   \n0             blick.ch       Schweden beschliesst starke Leitzinserhöhung  \\\n1               srf.ch  Handball-Nati: Schweizerinnen unterliegen Pole...   \n2         swissinfo.ch  \"Wir befürchten, dass die Tabakinitiative die ...   \n3       NZZ am Sonntag                                               News   \n4               srf.ch                 Wenn Wassersportler fliegen lernen   \n...                ...                                                ...   \n153195  Berner Zeitung     Warum Opfer von Online-Hetze oft machtlos sind   \n153196      20 minuten                         Bürocontainer in Vollbrand   \n153197        blick.ch           Bundespräsident Cassis zu Besuch in Wien   \n153198  NZZ am Sonntag                                   Classe politique   \n153199        blick.ch  Mats Hummels feiert Ostern mit Cathy und Sohn ...   \n\n             datum                                  content_processed   \n0       2022-09-20  [Die, schwedische, Notenbank, stemmt, kräftige...  \\\n1       2022-04-24  [Die, Schweizer, Handball, Nati, Frauen, verli...   \n2       2022-01-11  [Wirtschaftskreise, wehren, starke, Einschränk...   \n3       2022-08-28  [Medizincannabis, Nikotin, gehen, Hand, Hand, ...   \n4       2022-08-15  [Man, sieht, bald, Schweizer, See, Wingfoiler,...   \n...            ...                                                ...   \n153195  2022-11-24  [Am, Internet, Pranger, Ein, linksradikales, P...   \n153196  2022-02-07  [ARBON, Aus, unbekannten, Gründen, brannte, Na...   \n153197  2022-01-13  [Die, nächsten, Schritte, Schweiz, Europa, Pol...   \n153198  2022-02-13  [Ignazio, Cassis, Globetrotter, twitterte, Bil...   \n153199  2022-04-18  [Nach, Mats, Hummels, Dating, Chaos, vergangen...   \n\n                                                countries  Sentiment   \n0                                            ['Schweden']   0.700000  \\\n1       ['Ukraine', 'Polen', 'Russland', 'Slowenien', ...  -0.140000   \n2                    ['Frankreich', 'Schweiz', 'Italien']   0.150000   \n3                                                      []   0.000000   \n4                        ['Schweiz', 'Australien', 'USA']   0.194118   \n...                                                   ...        ...   \n153195                       ['Schweiz', 'Irland', 'USA']  -0.432558   \n153196                                                 []  -0.850000   \n153197  ['Ukraine', 'Österreich', 'USA', 'Russland', '...   0.350000   \n153198                                          ['Niger']   0.000000   \n153199                                     ['Österreich']   0.540000   \n\n        objectivity                             entities   \n0          0.000000                   [Leitzinserhöhung]  \\\n1          0.000000           [Schweizerinn, Quali-Ende]   \n2          0.075000  [Tabakinitiative, Tür, Werbeverbot]   \n3          0.000000                               [News]   \n4          0.088235                     [Wassersportler]   \n...             ...                                  ...   \n153195     0.134884                [Opfer, Online-Hetze]   \n153196     0.000000                      [Bürocontainer]   \n153197     0.000000            [Bundespräsident, Besuch]   \n153198     0.000000                                   []   \n153199     0.000000  [Mat, Hummels, Cathy, Sohn, Ludwig]   \n\n                      category  \n0                   Wirtschaft  \n1                        Sport  \n2                      Politik  \n3       Wissenschaft & Technik  \n4                        Sport  \n...                        ...  \n153195                 Politik  \n153196                Regional  \n153197                 Politik  \n153198                 Politik  \n153199                  Kultur  \n\n[153200 rows x 9 columns]",
      "text/html": "<div>\n<style scoped>\n    .dataframe tbody tr th:only-of-type {\n        vertical-align: middle;\n    }\n\n    .dataframe tbody tr th {\n        vertical-align: top;\n    }\n\n    .dataframe thead th {\n        text-align: right;\n    }\n</style>\n<table border=\"1\" class=\"dataframe\">\n  <thead>\n    <tr style=\"text-align: right;\">\n      <th></th>\n      <th>medium_name</th>\n      <th>head</th>\n      <th>datum</th>\n      <th>content_processed</th>\n      <th>countries</th>\n      <th>Sentiment</th>\n      <th>objectivity</th>\n      <th>entities</th>\n      <th>category</th>\n    </tr>\n  </thead>\n  <tbody>\n    <tr>\n      <th>0</th>\n      <td>blick.ch</td>\n      <td>Schweden beschliesst starke Leitzinserhöhung</td>\n      <td>2022-09-20</td>\n      <td>[Die, schwedische, Notenbank, stemmt, kräftige...</td>\n      <td>['Schweden']</td>\n      <td>0.700000</td>\n      <td>0.000000</td>\n      <td>[Leitzinserhöhung]</td>\n      <td>Wirtschaft</td>\n    </tr>\n    <tr>\n      <th>1</th>\n      <td>srf.ch</td>\n      <td>Handball-Nati: Schweizerinnen unterliegen Pole...</td>\n      <td>2022-04-24</td>\n      <td>[Die, Schweizer, Handball, Nati, Frauen, verli...</td>\n      <td>['Ukraine', 'Polen', 'Russland', 'Slowenien', ...</td>\n      <td>-0.140000</td>\n      <td>0.000000</td>\n      <td>[Schweizerinn, Quali-Ende]</td>\n      <td>Sport</td>\n    </tr>\n    <tr>\n      <th>2</th>\n      <td>swissinfo.ch</td>\n      <td>\"Wir befürchten, dass die Tabakinitiative die ...</td>\n      <td>2022-01-11</td>\n      <td>[Wirtschaftskreise, wehren, starke, Einschränk...</td>\n      <td>['Frankreich', 'Schweiz', 'Italien']</td>\n      <td>0.150000</td>\n      <td>0.075000</td>\n      <td>[Tabakinitiative, Tür, Werbeverbot]</td>\n      <td>Politik</td>\n    </tr>\n    <tr>\n      <th>3</th>\n      <td>NZZ am Sonntag</td>\n      <td>News</td>\n      <td>2022-08-28</td>\n      <td>[Medizincannabis, Nikotin, gehen, Hand, Hand, ...</td>\n      <td>[]</td>\n      <td>0.000000</td>\n      <td>0.000000</td>\n      <td>[News]</td>\n      <td>Wissenschaft &amp; Technik</td>\n    </tr>\n    <tr>\n      <th>4</th>\n      <td>srf.ch</td>\n      <td>Wenn Wassersportler fliegen lernen</td>\n      <td>2022-08-15</td>\n      <td>[Man, sieht, bald, Schweizer, See, Wingfoiler,...</td>\n      <td>['Schweiz', 'Australien', 'USA']</td>\n      <td>0.194118</td>\n      <td>0.088235</td>\n      <td>[Wassersportler]</td>\n      <td>Sport</td>\n    </tr>\n    <tr>\n      <th>...</th>\n      <td>...</td>\n      <td>...</td>\n      <td>...</td>\n      <td>...</td>\n      <td>...</td>\n      <td>...</td>\n      <td>...</td>\n      <td>...</td>\n      <td>...</td>\n    </tr>\n    <tr>\n      <th>153195</th>\n      <td>Berner Zeitung</td>\n      <td>Warum Opfer von Online-Hetze oft machtlos sind</td>\n      <td>2022-11-24</td>\n      <td>[Am, Internet, Pranger, Ein, linksradikales, P...</td>\n      <td>['Schweiz', 'Irland', 'USA']</td>\n      <td>-0.432558</td>\n      <td>0.134884</td>\n      <td>[Opfer, Online-Hetze]</td>\n      <td>Politik</td>\n    </tr>\n    <tr>\n      <th>153196</th>\n      <td>20 minuten</td>\n      <td>Bürocontainer in Vollbrand</td>\n      <td>2022-02-07</td>\n      <td>[ARBON, Aus, unbekannten, Gründen, brannte, Na...</td>\n      <td>[]</td>\n      <td>-0.850000</td>\n      <td>0.000000</td>\n      <td>[Bürocontainer]</td>\n      <td>Regional</td>\n    </tr>\n    <tr>\n      <th>153197</th>\n      <td>blick.ch</td>\n      <td>Bundespräsident Cassis zu Besuch in Wien</td>\n      <td>2022-01-13</td>\n      <td>[Die, nächsten, Schritte, Schweiz, Europa, Pol...</td>\n      <td>['Ukraine', 'Österreich', 'USA', 'Russland', '...</td>\n      <td>0.350000</td>\n      <td>0.000000</td>\n      <td>[Bundespräsident, Besuch]</td>\n      <td>Politik</td>\n    </tr>\n    <tr>\n      <th>153198</th>\n      <td>NZZ am Sonntag</td>\n      <td>Classe politique</td>\n      <td>2022-02-13</td>\n      <td>[Ignazio, Cassis, Globetrotter, twitterte, Bil...</td>\n      <td>['Niger']</td>\n      <td>0.000000</td>\n      <td>0.000000</td>\n      <td>[]</td>\n      <td>Politik</td>\n    </tr>\n    <tr>\n      <th>153199</th>\n      <td>blick.ch</td>\n      <td>Mats Hummels feiert Ostern mit Cathy und Sohn ...</td>\n      <td>2022-04-18</td>\n      <td>[Nach, Mats, Hummels, Dating, Chaos, vergangen...</td>\n      <td>['Österreich']</td>\n      <td>0.540000</td>\n      <td>0.000000</td>\n      <td>[Mat, Hummels, Cathy, Sohn, Ludwig]</td>\n      <td>Kultur</td>\n    </tr>\n  </tbody>\n</table>\n<p>153200 rows × 9 columns</p>\n</div>"
     },
     "execution_count": 119,
     "metadata": {},
     "output_type": "execute_result"
    }
   ],
   "source": [
    "del processed_data['id']\n",
    "del processed_data['rubric']\n",
    "del processed_data['sentiment']\n",
    "del processed_data['kategorie']\n",
    "del processed_data['doctype_description']"
   ],
   "metadata": {
    "collapsed": false
   }
  },
  {
   "cell_type": "code",
   "execution_count": 122,
   "outputs": [
    {
     "data": {
      "text/plain": "           medium_name                                               head   \n0             blick.ch       Schweden beschliesst starke Leitzinserhöhung  \\\n1               srf.ch  Handball-Nati: Schweizerinnen unterliegen Pole...   \n2         swissinfo.ch  \"Wir befürchten, dass die Tabakinitiative die ...   \n3       NZZ am Sonntag                                               News   \n4               srf.ch                 Wenn Wassersportler fliegen lernen   \n...                ...                                                ...   \n153195  Berner Zeitung     Warum Opfer von Online-Hetze oft machtlos sind   \n153196      20 minuten                         Bürocontainer in Vollbrand   \n153197        blick.ch           Bundespräsident Cassis zu Besuch in Wien   \n153198  NZZ am Sonntag                                   Classe politique   \n153199        blick.ch  Mats Hummels feiert Ostern mit Cathy und Sohn ...   \n\n              date                                  content_processed   \n0       2022-09-20  [Die, schwedische, Notenbank, stemmt, kräftige...  \\\n1       2022-04-24  [Die, Schweizer, Handball, Nati, Frauen, verli...   \n2       2022-01-11  [Wirtschaftskreise, wehren, starke, Einschränk...   \n3       2022-08-28  [Medizincannabis, Nikotin, gehen, Hand, Hand, ...   \n4       2022-08-15  [Man, sieht, bald, Schweizer, See, Wingfoiler,...   \n...            ...                                                ...   \n153195  2022-11-24  [Am, Internet, Pranger, Ein, linksradikales, P...   \n153196  2022-02-07  [ARBON, Aus, unbekannten, Gründen, brannte, Na...   \n153197  2022-01-13  [Die, nächsten, Schritte, Schweiz, Europa, Pol...   \n153198  2022-02-13  [Ignazio, Cassis, Globetrotter, twitterte, Bil...   \n153199  2022-04-18  [Nach, Mats, Hummels, Dating, Chaos, vergangen...   \n\n                                                countries  sentiment   \n0                                            ['Schweden']   0.700000  \\\n1       ['Ukraine', 'Polen', 'Russland', 'Slowenien', ...  -0.140000   \n2                    ['Frankreich', 'Schweiz', 'Italien']   0.150000   \n3                                                      []   0.000000   \n4                        ['Schweiz', 'Australien', 'USA']   0.194118   \n...                                                   ...        ...   \n153195                       ['Schweiz', 'Irland', 'USA']  -0.432558   \n153196                                                 []  -0.850000   \n153197  ['Ukraine', 'Österreich', 'USA', 'Russland', '...   0.350000   \n153198                                          ['Niger']   0.000000   \n153199                                     ['Österreich']   0.540000   \n\n        subjectivity                      entities_header   \n0           0.000000                   [Leitzinserhöhung]  \\\n1           0.000000           [Schweizerinn, Quali-Ende]   \n2           0.075000  [Tabakinitiative, Tür, Werbeverbot]   \n3           0.000000                               [News]   \n4           0.088235                     [Wassersportler]   \n...              ...                                  ...   \n153195      0.134884                [Opfer, Online-Hetze]   \n153196      0.000000                      [Bürocontainer]   \n153197      0.000000            [Bundespräsident, Besuch]   \n153198      0.000000                                   []   \n153199      0.000000  [Mat, Hummels, Cathy, Sohn, Ludwig]   \n\n              article_category  \n0                   Wirtschaft  \n1                        Sport  \n2                      Politik  \n3       Wissenschaft & Technik  \n4                        Sport  \n...                        ...  \n153195                 Politik  \n153196                Regional  \n153197                 Politik  \n153198                 Politik  \n153199                  Kultur  \n\n[153200 rows x 9 columns]",
      "text/html": "<div>\n<style scoped>\n    .dataframe tbody tr th:only-of-type {\n        vertical-align: middle;\n    }\n\n    .dataframe tbody tr th {\n        vertical-align: top;\n    }\n\n    .dataframe thead th {\n        text-align: right;\n    }\n</style>\n<table border=\"1\" class=\"dataframe\">\n  <thead>\n    <tr style=\"text-align: right;\">\n      <th></th>\n      <th>medium_name</th>\n      <th>head</th>\n      <th>date</th>\n      <th>content_processed</th>\n      <th>countries</th>\n      <th>sentiment</th>\n      <th>subjectivity</th>\n      <th>entities_header</th>\n      <th>article_category</th>\n    </tr>\n  </thead>\n  <tbody>\n    <tr>\n      <th>0</th>\n      <td>blick.ch</td>\n      <td>Schweden beschliesst starke Leitzinserhöhung</td>\n      <td>2022-09-20</td>\n      <td>[Die, schwedische, Notenbank, stemmt, kräftige...</td>\n      <td>['Schweden']</td>\n      <td>0.700000</td>\n      <td>0.000000</td>\n      <td>[Leitzinserhöhung]</td>\n      <td>Wirtschaft</td>\n    </tr>\n    <tr>\n      <th>1</th>\n      <td>srf.ch</td>\n      <td>Handball-Nati: Schweizerinnen unterliegen Pole...</td>\n      <td>2022-04-24</td>\n      <td>[Die, Schweizer, Handball, Nati, Frauen, verli...</td>\n      <td>['Ukraine', 'Polen', 'Russland', 'Slowenien', ...</td>\n      <td>-0.140000</td>\n      <td>0.000000</td>\n      <td>[Schweizerinn, Quali-Ende]</td>\n      <td>Sport</td>\n    </tr>\n    <tr>\n      <th>2</th>\n      <td>swissinfo.ch</td>\n      <td>\"Wir befürchten, dass die Tabakinitiative die ...</td>\n      <td>2022-01-11</td>\n      <td>[Wirtschaftskreise, wehren, starke, Einschränk...</td>\n      <td>['Frankreich', 'Schweiz', 'Italien']</td>\n      <td>0.150000</td>\n      <td>0.075000</td>\n      <td>[Tabakinitiative, Tür, Werbeverbot]</td>\n      <td>Politik</td>\n    </tr>\n    <tr>\n      <th>3</th>\n      <td>NZZ am Sonntag</td>\n      <td>News</td>\n      <td>2022-08-28</td>\n      <td>[Medizincannabis, Nikotin, gehen, Hand, Hand, ...</td>\n      <td>[]</td>\n      <td>0.000000</td>\n      <td>0.000000</td>\n      <td>[News]</td>\n      <td>Wissenschaft &amp; Technik</td>\n    </tr>\n    <tr>\n      <th>4</th>\n      <td>srf.ch</td>\n      <td>Wenn Wassersportler fliegen lernen</td>\n      <td>2022-08-15</td>\n      <td>[Man, sieht, bald, Schweizer, See, Wingfoiler,...</td>\n      <td>['Schweiz', 'Australien', 'USA']</td>\n      <td>0.194118</td>\n      <td>0.088235</td>\n      <td>[Wassersportler]</td>\n      <td>Sport</td>\n    </tr>\n    <tr>\n      <th>...</th>\n      <td>...</td>\n      <td>...</td>\n      <td>...</td>\n      <td>...</td>\n      <td>...</td>\n      <td>...</td>\n      <td>...</td>\n      <td>...</td>\n      <td>...</td>\n    </tr>\n    <tr>\n      <th>153195</th>\n      <td>Berner Zeitung</td>\n      <td>Warum Opfer von Online-Hetze oft machtlos sind</td>\n      <td>2022-11-24</td>\n      <td>[Am, Internet, Pranger, Ein, linksradikales, P...</td>\n      <td>['Schweiz', 'Irland', 'USA']</td>\n      <td>-0.432558</td>\n      <td>0.134884</td>\n      <td>[Opfer, Online-Hetze]</td>\n      <td>Politik</td>\n    </tr>\n    <tr>\n      <th>153196</th>\n      <td>20 minuten</td>\n      <td>Bürocontainer in Vollbrand</td>\n      <td>2022-02-07</td>\n      <td>[ARBON, Aus, unbekannten, Gründen, brannte, Na...</td>\n      <td>[]</td>\n      <td>-0.850000</td>\n      <td>0.000000</td>\n      <td>[Bürocontainer]</td>\n      <td>Regional</td>\n    </tr>\n    <tr>\n      <th>153197</th>\n      <td>blick.ch</td>\n      <td>Bundespräsident Cassis zu Besuch in Wien</td>\n      <td>2022-01-13</td>\n      <td>[Die, nächsten, Schritte, Schweiz, Europa, Pol...</td>\n      <td>['Ukraine', 'Österreich', 'USA', 'Russland', '...</td>\n      <td>0.350000</td>\n      <td>0.000000</td>\n      <td>[Bundespräsident, Besuch]</td>\n      <td>Politik</td>\n    </tr>\n    <tr>\n      <th>153198</th>\n      <td>NZZ am Sonntag</td>\n      <td>Classe politique</td>\n      <td>2022-02-13</td>\n      <td>[Ignazio, Cassis, Globetrotter, twitterte, Bil...</td>\n      <td>['Niger']</td>\n      <td>0.000000</td>\n      <td>0.000000</td>\n      <td>[]</td>\n      <td>Politik</td>\n    </tr>\n    <tr>\n      <th>153199</th>\n      <td>blick.ch</td>\n      <td>Mats Hummels feiert Ostern mit Cathy und Sohn ...</td>\n      <td>2022-04-18</td>\n      <td>[Nach, Mats, Hummels, Dating, Chaos, vergangen...</td>\n      <td>['Österreich']</td>\n      <td>0.540000</td>\n      <td>0.000000</td>\n      <td>[Mat, Hummels, Cathy, Sohn, Ludwig]</td>\n      <td>Kultur</td>\n    </tr>\n  </tbody>\n</table>\n<p>153200 rows × 9 columns</p>\n</div>"
     },
     "execution_count": 122,
     "metadata": {},
     "output_type": "execute_result"
    }
   ],
   "source": [
    "processed_data = processed_data.rename(columns={'Sentiment': 'sentiment', 'datum': 'date', 'entities': 'entities_header', 'objectivity': 'subjectivity', 'category': 'article_category'})\n",
    "processed_data"
   ],
   "metadata": {
    "collapsed": false
   }
  },
  {
   "cell_type": "code",
   "execution_count": null,
   "outputs": [],
   "source": [
    "processed_data.to_csv('../data/processed_data_final.tsv.xz', sep='\\t', index=False, compression='xz')"
   ],
   "metadata": {
    "collapsed": false,
    "pycharm": {
     "is_executing": true
    }
   }
  }
 ],
 "metadata": {
  "kernelspec": {
   "display_name": "Python 3 (ipykernel)",
   "language": "python",
   "name": "python3"
  },
  "language_info": {
   "codemirror_mode": {
    "name": "ipython",
    "version": 3
   },
   "file_extension": ".py",
   "mimetype": "text/x-python",
   "name": "python",
   "nbconvert_exporter": "python",
   "pygments_lexer": "ipython3",
   "version": "3.9.15"
  }
 },
 "nbformat": 4,
 "nbformat_minor": 5
}
